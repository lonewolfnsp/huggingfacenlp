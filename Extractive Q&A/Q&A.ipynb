{
 "cells": [
  {
   "cell_type": "markdown",
   "metadata": {},
   "source": [
    "# Fine-tuning a model on a Q&A task using SQUAD"
   ]
  },
  {
   "cell_type": "markdown",
   "metadata": {},
   "source": [
    "## In this notebook, we will see how to fine-tune one of the [🤗 Transformers](https://github.com/huggingface/transformers) model to a question answering task, which is the task of extracting the answer to a question from a given context. We will see how to easily load a dataset for these kinds of tasks and use the `Trainer` API to fine-tune a model on it.\n",
    "\n",
    "![Widget inference representing the QA task](images/question_answering.png)\n",
    "\n",
    "**Note:** This notebook finetunes models that answer question by taking a substring of a context, not by generating new text."
   ]
  },
  {
   "cell_type": "markdown",
   "metadata": {},
   "source": [
    "Make sure your version of Transformers is at least 4.8.1 since the functionality was introduced in that version:"
   ]
  },
  {
   "cell_type": "code",
   "execution_count": 1,
   "metadata": {},
   "outputs": [
    {
     "name": "stdout",
     "output_type": "stream",
     "text": [
      "4.9.2\n"
     ]
    }
   ],
   "source": [
    "import transformers\n",
    "\n",
    "print(transformers.__version__)"
   ]
  },
  {
   "cell_type": "markdown",
   "metadata": {
    "id": "4RRkXuteIrIh"
   },
   "source": [
    "This notebook is built to run on any question answering task with the same format as SQUAD (version 1 or 2), with any model checkpoint from the [Model Hub](https://huggingface.co/models) as long as that model has a version with a token classification head and a fast tokenizer (check on [this table](https://huggingface.co/transformers/index.html#bigtable) if this is the case). It might just need some small adjustments if you decide to use a different dataset than the one used here. Depending on you model and the GPU you are using, you might need to adjust the batch size to avoid out-of-memory errors. Set those three parameters, then the rest of the notebook should run smoothly:"
   ]
  },
  {
   "cell_type": "code",
   "execution_count": 2,
   "metadata": {
    "id": "zVvslsfMIrIh"
   },
   "outputs": [],
   "source": [
    "# This flag is the difference between SQUAD v1 or 2 (if you're using another dataset, it indicates if impossible\n",
    "# answers are allowed or not).\n",
    "squad_v2 = False\n",
    "model_checkpoint = \"distilbert-base-uncased\"\n",
    "batch_size = 24"
   ]
  },
  {
   "cell_type": "markdown",
   "metadata": {
    "id": "whPRbBNbIrIl"
   },
   "source": [
    "## Loading the dataset"
   ]
  },
  {
   "cell_type": "markdown",
   "metadata": {
    "id": "W7QYTpxXIrIl"
   },
   "source": [
    "We will use the [🤗 Datasets](https://github.com/huggingface/datasets) library to download the data and get the metric we need to use for evaluation (to compare our model to the benchmark). This can be easily done with the functions `load_dataset` and `load_metric`.  "
   ]
  },
  {
   "cell_type": "code",
   "execution_count": 3,
   "metadata": {
    "id": "IreSlFmlIrIm"
   },
   "outputs": [],
   "source": [
    "from datasets import load_dataset, load_metric"
   ]
  },
  {
   "cell_type": "markdown",
   "metadata": {
    "id": "CKx2zKs5IrIq"
   },
   "source": [
    "For our example here, we'll use the [SQUAD dataset](https://rajpurkar.github.io/SQuAD-explorer/). The notebook should work with any question answering dataset provided by the 🤗 Datasets library. If you're using your own dataset defined from a JSON or csv file (see the [Datasets documentation](https://huggingface.co/docs/datasets/loading_datasets.html#from-local-files) on how to load them), it might need some adjustments in the names of the columns used."
   ]
  },
  {
   "cell_type": "code",
   "execution_count": 4,
   "metadata": {
    "colab": {
     "base_uri": "https://localhost:8080/",
     "height": 270,
     "referenced_widgets": [
      "69caab03d6264fef9fc5649bffff5e20",
      "3f74532faa86412293d90d3952f38c4a",
      "50615aa59c7247c4804ca5cbc7945bd7",
      "fe962391292a413ca55dc932c4279fa7",
      "299f4b4c07654e53a25f8192bd1d7bbd",
      "ad04ed1038154081bbb0c1444784dcc2",
      "7c667ad22b5740d5a6319f1b1e3a8097",
      "46c2b043c0f84806978784a45a4e203b",
      "80e2943be35f46eeb24c8ab13faa6578",
      "de5956b5008d4fdba807bae57509c393",
      "931db1f7a42f4b46b7ff8c2e1262b994",
      "6c1db72efff5476e842c1386fadbbdba",
      "ccd2f37647c547abb4c719b75a26f2de",
      "d30a66df5c0145e79693e09789d96b81",
      "5fa26fc336274073abbd1d550542ee33",
      "2b34de08115d49d285def9269a53f484",
      "d426be871b424affb455aeb7db5e822e",
      "160bf88485f44f5cb6eaeecba5e0901f",
      "745c0d47d672477b9bb0dae77b926364",
      "d22ab78269cd4ccfbcf70c707057c31b",
      "d298eb19eeff453cba51c2804629d3f4",
      "a7204ade36314c86907c562e0a2158b8",
      "e35d42b2d352498ca3fc8530393786b2",
      "75103f83538d44abada79b51a1cec09e",
      "f6253931d90543e9b5fd0bb2d615f73a",
      "051aa783ff9e47e28d1f9584043815f5",
      "0984b2a14115454bbb009df71c1cf36f",
      "8ab9dfce29854049912178941ef1b289",
      "c9de740e007141958545e269372780a4",
      "cbea68b25d6d4ba09b2ce0f27b1726d5",
      "5781fc45cf8d486cb06ed68853b2c644",
      "d2a92143a08a4951b55bab9bc0a6d0d3",
      "a14c3e40e5254d61ba146f6ec88eae25",
      "c4ffe6f624ce4e978a0d9b864544941a",
      "1aca01c1d8c940dfadd3e7144bb35718",
      "9fbbaae50e6743f2aa19342152398186",
      "fea27ca6c9504fc896181bc1ff5730e5",
      "940d00556cb849b3a689d56e274041c2",
      "5cdf9ed939fb42d4bf77301c80b8afca",
      "94b39ccfef0b4b08bf2fb61bb0a657c1",
      "9a55087c85b74ea08b3e952ac1d73cbe",
      "2361ab124daf47cc885ff61f2899b2af",
      "1a65887eb37747ddb75dc4a40f7285f2",
      "3c946e2260704e6c98593136bd32d921",
      "50d325cdb9844f62a9ecc98e768cb5af",
      "aa781f0cfe454e9da5b53b93e9baabd8",
      "6bb68d3887ef43809eb23feb467f9723",
      "7e29a8b952cf4f4ea42833c8bf55342f",
      "dd5997d01d8947e4b1c211433969b89b",
      "2ace4dc78e2f4f1492a181bcd63304e7",
      "bbee008c2791443d8610371d1f16b62b",
      "31b1c8a2e3334b72b45b083688c1a20c",
      "7fb7c36adc624f7dbbcb4a831c1e4f63",
      "0b7c8f1939074794b3d9221244b1344d",
      "a71908883b064e1fbdddb547a8c41743",
      "2f5223f26c8541fc87e91d2205c39995"
     ]
    },
    "id": "s_AY1ATSIrIq",
    "outputId": "fd0578d1-8895-443d-b56f-5908de9f1b6b"
   },
   "outputs": [
    {
     "name": "stderr",
     "output_type": "stream",
     "text": [
      "Reusing dataset squad (/home/john/.cache/huggingface/datasets/squad/plain_text/1.0.0/d6ec3ceb99ca480ce37cdd35555d6cb2511d223b9150cce08a837ef62ffea453)\n"
     ]
    }
   ],
   "source": [
    "datasets = load_dataset(\"squad_v2\" if squad_v2 else \"squad\")"
   ]
  },
  {
   "cell_type": "markdown",
   "metadata": {
    "id": "RzfPtOMoIrIu"
   },
   "source": [
    "The `datasets` object itself is [`DatasetDict`](https://huggingface.co/docs/datasets/package_reference/main_classes.html#datasetdict), which contains one key for the training, validation and test set."
   ]
  },
  {
   "cell_type": "code",
   "execution_count": 5,
   "metadata": {
    "id": "GWiVUF0jIrIv",
    "outputId": "35e3ea43-f397-4a54-c90c-f2cf8d36873e"
   },
   "outputs": [
    {
     "data": {
      "text/plain": [
       "DatasetDict({\n",
       "    train: Dataset({\n",
       "        features: ['id', 'title', 'context', 'question', 'answers'],\n",
       "        num_rows: 87599\n",
       "    })\n",
       "    validation: Dataset({\n",
       "        features: ['id', 'title', 'context', 'question', 'answers'],\n",
       "        num_rows: 10570\n",
       "    })\n",
       "})"
      ]
     },
     "execution_count": 5,
     "metadata": {},
     "output_type": "execute_result"
    }
   ],
   "source": [
    "datasets"
   ]
  },
  {
   "cell_type": "markdown",
   "metadata": {},
   "source": [
    "We can see the training, validation and test sets all have a column for the context, the question and the answers to those questions."
   ]
  },
  {
   "cell_type": "markdown",
   "metadata": {
    "id": "u3EtYfeHIrIz"
   },
   "source": [
    "To access an actual element, you need to select a split first, then give an index:"
   ]
  },
  {
   "cell_type": "code",
   "execution_count": 6,
   "metadata": {
    "id": "X6HrpprwIrIz",
    "outputId": "d7670bc0-42e4-4c09-8a6a-5c018ded7d95"
   },
   "outputs": [
    {
     "data": {
      "text/plain": [
       "{'id': '5733be284776f41900661182',\n",
       " 'title': 'University_of_Notre_Dame',\n",
       " 'context': 'Architecturally, the school has a Catholic character. Atop the Main Building\\'s gold dome is a golden statue of the Virgin Mary. Immediately in front of the Main Building and facing it, is a copper statue of Christ with arms upraised with the legend \"Venite Ad Me Omnes\". Next to the Main Building is the Basilica of the Sacred Heart. Immediately behind the basilica is the Grotto, a Marian place of prayer and reflection. It is a replica of the grotto at Lourdes, France where the Virgin Mary reputedly appeared to Saint Bernadette Soubirous in 1858. At the end of the main drive (and in a direct line that connects through 3 statues and the Gold Dome), is a simple, modern stone statue of Mary.',\n",
       " 'question': 'To whom did the Virgin Mary allegedly appear in 1858 in Lourdes France?',\n",
       " 'answers': {'text': ['Saint Bernadette Soubirous'], 'answer_start': [515]}}"
      ]
     },
     "execution_count": 6,
     "metadata": {},
     "output_type": "execute_result"
    }
   ],
   "source": [
    "datasets[\"train\"][0]"
   ]
  },
  {
   "cell_type": "markdown",
   "metadata": {},
   "source": [
    "We can see the answers are indicated by their start position in the text (here at character 515) and their full text, which is a substring of the context as we mentioned above."
   ]
  },
  {
   "cell_type": "markdown",
   "metadata": {
    "id": "WHUmphG3IrI3"
   },
   "source": [
    "To get a sense of what the data looks like, the following function will show some examples picked randomly in the dataset (automatically decoding the labels in passing)."
   ]
  },
  {
   "cell_type": "code",
   "execution_count": 7,
   "metadata": {
    "id": "i3j8APAoIrI3"
   },
   "outputs": [],
   "source": [
    "from datasets import ClassLabel, Sequence\n",
    "import random\n",
    "import pandas as pd\n",
    "from IPython.display import display, HTML\n",
    "\n",
    "def show_random_elements(dataset, num_examples=5):\n",
    "    assert num_examples <= len(dataset), \"Can't pick more elements than there are in the dataset.\"\n",
    "    picks = []\n",
    "    for _ in range(num_examples):\n",
    "        pick = random.randint(0, len(dataset)-1)\n",
    "        while pick in picks:\n",
    "            pick = random.randint(0, len(dataset)-1)\n",
    "        picks.append(pick)\n",
    "    \n",
    "    df = pd.DataFrame(dataset[picks])\n",
    "    for column, typ in dataset.features.items():\n",
    "        if isinstance(typ, ClassLabel):\n",
    "            df[column] = df[column].transform(lambda i: typ.names[i])\n",
    "        elif isinstance(typ, Sequence) and isinstance(typ.feature, ClassLabel):\n",
    "            df[column] = df[column].transform(lambda x: [typ.feature.names[i] for i in x])\n",
    "    display(HTML(df.to_html()))"
   ]
  },
  {
   "cell_type": "code",
   "execution_count": 8,
   "metadata": {
    "id": "SZy5tRB_IrI7",
    "outputId": "ba8f2124-e485-488f-8c0c-254f34f24f13",
    "scrolled": true
   },
   "outputs": [
    {
     "data": {
      "text/html": [
       "<table border=\"1\" class=\"dataframe\">\n",
       "  <thead>\n",
       "    <tr style=\"text-align: right;\">\n",
       "      <th></th>\n",
       "      <th>id</th>\n",
       "      <th>title</th>\n",
       "      <th>context</th>\n",
       "      <th>question</th>\n",
       "      <th>answers</th>\n",
       "    </tr>\n",
       "  </thead>\n",
       "  <tbody>\n",
       "    <tr>\n",
       "      <th>0</th>\n",
       "      <td>5733ea234776f419006614d4</td>\n",
       "      <td>Anthropology</td>\n",
       "      <td>Professional anthropological bodies often object to the use of anthropology for the benefit of the state. Their codes of ethics or statements may proscribe anthropologists from giving secret briefings. The Association of Social Anthropologists of the UK and Commonwealth (ASA) has called certain scholarship ethically dangerous. The AAA's current 'Statement of Professional Responsibility' clearly states that \"in relation with their own government and with host governments ... no secret research, no secret reports or debriefings of any kind should be agreed to or given.\"</td>\n",
       "      <td>What type of briefings are forbidden for members of certain anthropologist bodies to give?</td>\n",
       "      <td>{'text': ['secret'], 'answer_start': [184]}</td>\n",
       "    </tr>\n",
       "    <tr>\n",
       "      <th>1</th>\n",
       "      <td>5706bddb0eeca41400aa0de1</td>\n",
       "      <td>Black_people</td>\n",
       "      <td>The Negritos are believed to be the first inhabitants of Southeast Asia. Once inhabiting Taiwan, Vietnam, and various other parts of Asia, they are now confined primarily to Thailand, the Malay Archipelago, and the Andaman and Nicobar Islands. Negrito means \"little black people\" in Spanish (negrito is the Spanish diminutive of negro, i.e., \"little black person\"); it is what the Spaniards called the short-statured, hunter-gatherer autochthones that they encountered in the Philippines. Despite this, Negritos are never referred to as black today, and doing so would cause offense. The term Negrito itself has come under criticism in countries like Malaysia, where it is now interchangeable with the more acceptable Semang, although this term actually refers to a specific group. The common Thai word for Negritos literally means \"frizzy hair\".</td>\n",
       "      <td>What term is interchangable with Negrito?</td>\n",
       "      <td>{'text': ['Semang'], 'answer_start': [718]}</td>\n",
       "    </tr>\n",
       "    <tr>\n",
       "      <th>2</th>\n",
       "      <td>5726a342f1498d1400e8e598</td>\n",
       "      <td>Electric_motor</td>\n",
       "      <td>After many other more or less successful attempts with relatively weak rotating and reciprocating apparatus the Prussian Moritz von Jacobi created the first real rotating electric motor in May 1834 that actually developed a remarkable mechanical output power. His motor set a world record which was improved only four years later in September 1838 by Jacobi himself. His second motor was powerful enough to drive a boat with 14 people across a wide river. It was not until 1839/40 that other developers worldwide managed to build motors of similar and later also of higher performance.</td>\n",
       "      <td>How long did it take for Jacobi's first world record to be broken?</td>\n",
       "      <td>{'text': ['four years'], 'answer_start': [313]}</td>\n",
       "    </tr>\n",
       "    <tr>\n",
       "      <th>3</th>\n",
       "      <td>56d677f31c85041400947144</td>\n",
       "      <td>2008_Sichuan_earthquake</td>\n",
       "      <td>An article in Science suggested that the construction and filling of the Zipingpu Dam may have triggered the earthquake. The chief engineer of the Sichuan Geology and Mineral Bureau said that the sudden shift of a huge quantity of water into the region could have relaxed the tension between the two sides of the fault, allowing them to move apart, and could have increased the direct pressure on it, causing a violent rupture. The effect was \"25 times more\" than a year's worth of natural stress from tectonic movement. The government had disregarded warnings about so many large-scale dam projects in a seismically active area. Researchers have been denied access to seismological and geological data to examine the cause of the quake further.</td>\n",
       "      <td>What was the affect of the dam on the stresses in that area?</td>\n",
       "      <td>{'text': ['25 times more'], 'answer_start': [444]}</td>\n",
       "    </tr>\n",
       "    <tr>\n",
       "      <th>4</th>\n",
       "      <td>572732bbdd62a815002e9974</td>\n",
       "      <td>Cotton</td>\n",
       "      <td>India's cotton-processing sector gradually declined during British expansion in India and the establishment of colonial rule during the late 18th and early 19th centuries. This was largely due to aggressive colonialist mercantile policies of the British East India Company, which made cotton processing and manufacturing workshops in India uncompetitive. Indian markets were increasingly forced to supply only raw cotton and, by British-imposed law, to purchase manufactured textiles from Britain.[citation needed]</td>\n",
       "      <td>If instead of producing fabrics, where was India forced to purchase cotton products?</td>\n",
       "      <td>{'text': ['Britain'], 'answer_start': [489]}</td>\n",
       "    </tr>\n",
       "  </tbody>\n",
       "</table>"
      ],
      "text/plain": [
       "<IPython.core.display.HTML object>"
      ]
     },
     "metadata": {},
     "output_type": "display_data"
    }
   ],
   "source": [
    "show_random_elements(datasets[\"train\"])"
   ]
  },
  {
   "cell_type": "markdown",
   "metadata": {
    "id": "n9qywopnIrJH"
   },
   "source": [
    "## Preprocessing the training data"
   ]
  },
  {
   "cell_type": "markdown",
   "metadata": {
    "id": "YVx71GdAIrJH"
   },
   "source": [
    "Before we can feed those texts to our model, we need to preprocess them. This is done by a 🤗 Transformers `Tokenizer` which will (as the name indicates) tokenize the inputs (including converting the tokens to their corresponding IDs in the pretrained vocabulary) and put it in a format the model expects, as well as generate the other inputs that model requires.\n",
    "\n",
    "To do all of this, we instantiate our tokenizer with the `AutoTokenizer.from_pretrained` method, which will ensure:\n",
    "\n",
    "- we get a tokenizer that corresponds to the model architecture we want to use,\n",
    "- we download the vocabulary used when pretraining this specific checkpoint.\n",
    "\n",
    "That vocabulary will be cached, so it's not downloaded again the next time we run the cell."
   ]
  },
  {
   "cell_type": "code",
   "execution_count": 9,
   "metadata": {
    "id": "eXNLu_-nIrJI"
   },
   "outputs": [],
   "source": [
    "from transformers import AutoTokenizer\n",
    "    \n",
    "tokenizer = AutoTokenizer.from_pretrained(model_checkpoint)"
   ]
  },
  {
   "cell_type": "markdown",
   "metadata": {
    "id": "Vl6IidfdIrJK"
   },
   "source": [
    "The following assertion ensures that our tokenizer is a fast tokenizers (backed by Rust) from the 🤗 Tokenizers library. Those fast tokenizers are available for almost all models, and we will need some of the special features they have for our preprocessing."
   ]
  },
  {
   "cell_type": "code",
   "execution_count": 10,
   "metadata": {},
   "outputs": [],
   "source": [
    "import transformers\n",
    "assert isinstance(tokenizer, transformers.PreTrainedTokenizerFast)"
   ]
  },
  {
   "cell_type": "markdown",
   "metadata": {},
   "source": [
    "You can check which type of models have a fast tokenizer available and which don't on the [big table of models](https://huggingface.co/transformers/index.html#bigtable)."
   ]
  },
  {
   "cell_type": "markdown",
   "metadata": {
    "id": "rowT4iCLIrJK"
   },
   "source": [
    "You can directly call this tokenizer on two sentences (one for the answer, one for the context):"
   ]
  },
  {
   "cell_type": "code",
   "execution_count": 11,
   "metadata": {
    "id": "a5hBlsrHIrJL",
    "outputId": "acdaa98a-a8cd-4a20-89b8-cc26437bbe90"
   },
   "outputs": [
    {
     "data": {
      "text/plain": [
       "{'input_ids': [101, 2054, 2003, 2115, 2171, 1029, 102, 2026, 2171, 2003, 25353, 22144, 2378, 1012, 102], 'attention_mask': [1, 1, 1, 1, 1, 1, 1, 1, 1, 1, 1, 1, 1, 1, 1]}"
      ]
     },
     "execution_count": 11,
     "metadata": {},
     "output_type": "execute_result"
    }
   ],
   "source": [
    "tokenizer(\"What is your name?\", \"My name is Sylvain.\")"
   ]
  },
  {
   "cell_type": "markdown",
   "metadata": {},
   "source": [
    "Depending on the model you selected, you will see different keys in the dictionary returned by the cell above. They don't matter much for what we're doing here (just know they are required by the model we will instantiate later), you can learn more about them in [this tutorial](https://huggingface.co/transformers/preprocessing.html) if you're interested.\n",
    "\n",
    "Now one specific thing for the preprocessing in question answering is how to deal with very long documents. We usually truncate them in other tasks, when they are longer than the model maximum sentence length, but here, removing part of the the context might result in losing the answer we are looking for. To deal with this, we will allow one (long) example in our dataset to give several input features, each of length shorter than the maximum length of the model (or the one we set as a hyper-parameter). Also, just in case the answer lies at the point we split a long context, we allow some overlap between the features we generate controlled by the hyper-parameter `doc_stride`:"
   ]
  },
  {
   "cell_type": "code",
   "execution_count": 12,
   "metadata": {},
   "outputs": [],
   "source": [
    "max_length = 384 # The maximum length of a feature (question and context)\n",
    "doc_stride = 128 # The authorized overlap between two part of the context when splitting it is needed."
   ]
  },
  {
   "cell_type": "markdown",
   "metadata": {},
   "source": [
    "Let's find one long example in our dataset:"
   ]
  },
  {
   "cell_type": "code",
   "execution_count": 13,
   "metadata": {},
   "outputs": [
    {
     "name": "stdout",
     "output_type": "stream",
     "text": [
      "index 249 will span multiple features.\n",
      "\n",
      " sample = {'id': '5733caf74776f4190066124c', 'title': 'University_of_Notre_Dame', 'context': \"The men's basketball team has over 1,600 wins, one of only 12 schools who have reached that mark, and have appeared in 28 NCAA tournaments. Former player Austin Carr holds the record for most points scored in a single game of the tournament with 61. Although the team has never won the NCAA Tournament, they were named by the Helms Athletic Foundation as national champions twice. The team has orchestrated a number of upsets of number one ranked teams, the most notable of which was ending UCLA's record 88-game winning streak in 1974. The team has beaten an additional eight number-one teams, and those nine wins rank second, to UCLA's 10, all-time in wins against the top team. The team plays in newly renovated Purcell Pavilion (within the Edmund P. Joyce Center), which reopened for the beginning of the 2009–2010 season. The team is coached by Mike Brey, who, as of the 2014–15 season, his fifteenth at Notre Dame, has achieved a 332-165 record. In 2009 they were invited to the NIT, where they advanced to the semifinals but were beaten by Penn State who went on and beat Baylor in the championship. The 2010–11 team concluded its regular season ranked number seven in the country, with a record of 25–5, Brey's fifth straight 20-win season, and a second-place finish in the Big East. During the 2014-15 season, the team went 32-6 and won the ACC conference tournament, later advancing to the Elite 8, where the Fighting Irish lost on a missed buzzer-beater against then undefeated Kentucky. Led by NBA draft picks Jerian Grant and Pat Connaughton, the Fighting Irish beat the eventual national champion Duke Blue Devils twice during the season. The 32 wins were the most by the Fighting Irish team since 1908-09.\", 'question': \"How many wins does the Notre Dame men's basketball team have?\", 'answers': {'text': ['over 1,600'], 'answer_start': [30]}} \n"
     ]
    }
   ],
   "source": [
    "for i, example in enumerate(datasets[\"train\"]):\n",
    "    if len(tokenizer(example[\"question\"], example[\"context\"])[\"input_ids\"]) > max_length:\n",
    "        break\n",
    "print(f\"index {i} will span multiple features.\\n\\n sample = {datasets['train'][i]} \")"
   ]
  },
  {
   "cell_type": "markdown",
   "metadata": {},
   "source": [
    "Without any truncation, we get the following length for the input IDs:"
   ]
  },
  {
   "cell_type": "code",
   "execution_count": 14,
   "metadata": {},
   "outputs": [
    {
     "data": {
      "text/plain": [
       "396"
      ]
     },
     "execution_count": 14,
     "metadata": {},
     "output_type": "execute_result"
    }
   ],
   "source": [
    "len(tokenizer(example[\"question\"], example[\"context\"])[\"input_ids\"])"
   ]
  },
  {
   "cell_type": "markdown",
   "metadata": {},
   "source": [
    "Now, if we just truncate, we will lose information (and possibly the answer to our question):"
   ]
  },
  {
   "cell_type": "code",
   "execution_count": 15,
   "metadata": {},
   "outputs": [
    {
     "data": {
      "text/plain": [
       "384"
      ]
     },
     "execution_count": 15,
     "metadata": {},
     "output_type": "execute_result"
    }
   ],
   "source": [
    "len(tokenizer(example[\"question\"], example[\"context\"], max_length=max_length, truncation=\"only_second\")[\"input_ids\"])"
   ]
  },
  {
   "cell_type": "markdown",
   "metadata": {},
   "source": [
    "Note that we never want to truncate the question, only the context, else the `only_second` truncation picked. Now, our tokenizer can automatically return us a list of features capped by a certain maximum length, with the overlap we talked above, we just have to tell it with `return_overflowing_tokens=True` and by passing the stride:"
   ]
  },
  {
   "cell_type": "code",
   "execution_count": 16,
   "metadata": {},
   "outputs": [],
   "source": [
    "tokenized_example = tokenizer(\n",
    "    example[\"question\"],\n",
    "    example[\"context\"],\n",
    "    max_length=max_length,\n",
    "    truncation=\"only_second\",\n",
    "    return_overflowing_tokens=True,\n",
    "    stride=doc_stride\n",
    ")"
   ]
  },
  {
   "cell_type": "code",
   "execution_count": 17,
   "metadata": {},
   "outputs": [
    {
     "data": {
      "text/plain": [
       "384"
      ]
     },
     "execution_count": 17,
     "metadata": {},
     "output_type": "execute_result"
    }
   ],
   "source": [
    "len(tokenized_example['input_ids'][0])"
   ]
  },
  {
   "cell_type": "markdown",
   "metadata": {},
   "source": [
    "Now we don't have one list of `input_ids`, but several: "
   ]
  },
  {
   "cell_type": "code",
   "execution_count": 18,
   "metadata": {},
   "outputs": [
    {
     "data": {
      "text/plain": [
       "[384, 157]"
      ]
     },
     "execution_count": 18,
     "metadata": {},
     "output_type": "execute_result"
    }
   ],
   "source": [
    "[len(x) for x in tokenized_example[\"input_ids\"]]"
   ]
  },
  {
   "cell_type": "markdown",
   "metadata": {},
   "source": [
    "And if we decode them, we can see the overlap:"
   ]
  },
  {
   "cell_type": "code",
   "execution_count": 19,
   "metadata": {},
   "outputs": [
    {
     "name": "stdout",
     "output_type": "stream",
     "text": [
      "[CLS] how many wins does the notre dame men's basketball team have? [SEP] the men's basketball team has over 1, 600 wins, one of only 12 schools who have reached that mark, and have appeared in 28 ncaa tournaments. former player austin carr holds the record for most points scored in a single game of the tournament with 61. although the team has never won the ncaa tournament, they were named by the helms athletic foundation as national champions twice. the team has orchestrated a number of upsets of number one ranked teams, the most notable of which was ending ucla's record 88 - game winning streak in 1974. the team has beaten an additional eight number - one teams, and those nine wins rank second, to ucla's 10, all - time in wins against the top team. the team plays in newly renovated purcell pavilion ( within the edmund p. joyce center ), which reopened for the beginning of the 2009 – 2010 season. the team is coached by mike brey, who, as of the 2014 – 15 season, his fifteenth at notre dame, has achieved a 332 - 165 record. in 2009 they were invited to the nit, where they advanced to the semifinals but were beaten by penn state who went on and beat baylor in the championship. the 2010 – 11 team concluded its regular season ranked number seven in the country, with a record of 25 – 5, brey's fifth straight 20 - win season, and a second - place finish in the big east. during the 2014 - 15 season, the team went 32 - 6 and won the acc conference tournament, later advancing to the elite 8, where the fighting irish lost on a missed buzzer - beater against then undefeated kentucky. led by nba draft picks jerian grant and pat connaughton, the fighting irish beat the eventual national champion duke blue devils twice during the season. the 32 wins were [SEP]\n",
      "\n",
      "[CLS] how many wins does the notre dame men's basketball team have? [SEP] championship. the 2010 – 11 team concluded its regular season ranked number seven in the country, with a record of 25 – 5, brey's fifth straight 20 - win season, and a second - place finish in the big east. during the 2014 - 15 season, the team went 32 - 6 and won the acc conference tournament, later advancing to the elite 8, where the fighting irish lost on a missed buzzer - beater against then undefeated kentucky. led by nba draft picks jerian grant and pat connaughton, the fighting irish beat the eventual national champion duke blue devils twice during the season. the 32 wins were the most by the fighting irish team since 1908 - 09. [SEP]\n",
      "\n"
     ]
    }
   ],
   "source": [
    "for x in tokenized_example[\"input_ids\"][:2]:\n",
    "    print(f\"{tokenizer.decode(x)}\\n\" )"
   ]
  },
  {
   "cell_type": "markdown",
   "metadata": {},
   "source": [
    "Now this will give us some work to properly treat the answers: we need to find in which of those features the answer actually is, and where exactly in that feature. The models we will use require the start and end positions of these answers in the tokens, so we will also need to to map parts of the original context to some tokens. Thankfully, the tokenizer we're using can help us with that by returning an `offset_mapping`:"
   ]
  },
  {
   "cell_type": "code",
   "execution_count": 20,
   "metadata": {
    "scrolled": true
   },
   "outputs": [
    {
     "name": "stdout",
     "output_type": "stream",
     "text": [
      "[(0, 0), (0, 3), (4, 8), (9, 13), (14, 18), (19, 22), (23, 28), (29, 33), (34, 37), (37, 38), (38, 39), (40, 50), (51, 55), (56, 60), (60, 61), (0, 0), (0, 3), (4, 7), (7, 8), (8, 9), (10, 20), (21, 25), (26, 29), (30, 34), (35, 36), (36, 37), (37, 40), (41, 45), (45, 46), (47, 50), (51, 53), (54, 58), (59, 61), (62, 69), (70, 73), (74, 78), (79, 86), (87, 91), (92, 96), (96, 97), (98, 101), (102, 106), (107, 115), (116, 118), (119, 121), (122, 126), (127, 138), (138, 139), (140, 146), (147, 153), (154, 160), (161, 165), (166, 171), (172, 175), (176, 182), (183, 186), (187, 191), (192, 198), (199, 205), (206, 208), (209, 210), (211, 217), (218, 222), (223, 225), (226, 229), (230, 240), (241, 245), (246, 248), (248, 249), (250, 258), (259, 262), (263, 267), (268, 271), (272, 277), (278, 281), (282, 285), (286, 290), (291, 301), (301, 302), (303, 307), (308, 312), (313, 318), (319, 321), (322, 325), (326, 330), (330, 331), (332, 340), (341, 351), (352, 354), (355, 363), (364, 373), (374, 379), (379, 380), (381, 384), (385, 389), (390, 393), (394, 406), (407, 408), (409, 415), (416, 418)]\n"
     ]
    }
   ],
   "source": [
    "tokenized_example = tokenizer(\n",
    "    example[\"question\"],\n",
    "    example[\"context\"],\n",
    "    max_length=max_length,\n",
    "    truncation=\"only_second\",\n",
    "    return_overflowing_tokens=True,\n",
    "    return_offsets_mapping=True,\n",
    "    stride=doc_stride\n",
    ")\n",
    "print(tokenized_example[\"offset_mapping\"][0][:100])"
   ]
  },
  {
   "cell_type": "code",
   "execution_count": 21,
   "metadata": {},
   "outputs": [
    {
     "data": {
      "text/plain": [
       "157"
      ]
     },
     "execution_count": 21,
     "metadata": {},
     "output_type": "execute_result"
    }
   ],
   "source": [
    "len(tokenized_example['offset_mapping'][1])"
   ]
  },
  {
   "cell_type": "markdown",
   "metadata": {},
   "source": [
    "This gives, for each index of our input IDS, the corresponding start and end character in the original text that gave our token. The very first token (`[CLS]`) has (0, 0) because it doesn't correspond to any part of the question/answer, then the second token is the same as the characters 0 to 3 of the question:"
   ]
  },
  {
   "cell_type": "code",
   "execution_count": 22,
   "metadata": {},
   "outputs": [
    {
     "name": "stdout",
     "output_type": "stream",
     "text": [
      "how How\n"
     ]
    }
   ],
   "source": [
    "first_token_id = tokenized_example[\"input_ids\"][0][1]\n",
    "offsets = tokenized_example[\"offset_mapping\"][0][1]\n",
    "print(tokenizer.convert_ids_to_tokens([first_token_id])[0], example[\"question\"][offsets[0]:offsets[1]])"
   ]
  },
  {
   "cell_type": "markdown",
   "metadata": {},
   "source": [
    "So we can use this mapping to find the position of the start and end tokens of our answer in a given feature. We just have to distinguish which parts of the offsets correspond to the question and which part correspond to the context, this is where the `sequence_ids` method of our `tokenized_example` can be useful:"
   ]
  },
  {
   "cell_type": "code",
   "execution_count": 23,
   "metadata": {
    "scrolled": true
   },
   "outputs": [
    {
     "name": "stdout",
     "output_type": "stream",
     "text": [
      "[None, 0, 0, 0, 0, 0, 0, 0, 0, 0, 0, 0, 0, 0, 0, None, 1, 1, 1, 1, 1, 1, 1, 1, 1, 1, 1, 1, 1, 1, 1, 1, 1, 1, 1, 1, 1, 1, 1, 1, 1, 1, 1, 1, 1, 1, 1, 1, 1, 1, 1, 1, 1, 1, 1, 1, 1, 1, 1, 1, 1, 1, 1, 1, 1, 1, 1, 1, 1, 1, 1, 1, 1, 1, 1, 1, 1, 1, 1, 1, 1, 1, 1, 1, 1, 1, 1, 1, 1, 1, 1, 1, 1, 1, 1, 1, 1, 1, 1, 1, 1, 1, 1, 1, 1, 1, 1, 1, 1, 1, 1, 1, 1, 1, 1, 1, 1, 1, 1, 1, 1, 1, 1, 1, 1, 1, 1, 1, 1, 1, 1, 1, 1, 1, 1, 1, 1, 1, 1, 1, 1, 1, 1, 1, 1, 1, 1, 1, 1, 1, 1, 1, 1, 1, 1, 1, 1, 1, 1, 1, 1, 1, 1, 1, 1, 1, 1, 1, 1, 1, 1, 1, 1, 1, 1, 1, 1, 1, 1, 1, 1, 1, 1, 1, 1, 1, 1, 1, 1, 1, 1, 1, 1, 1, 1, 1, 1, 1, 1, 1, 1, 1, 1, 1, 1, 1, 1, 1, 1, 1, 1, 1, 1, 1, 1, 1, 1, 1, 1, 1, 1, 1, 1, 1, 1, 1, 1, 1, 1, 1, 1, 1, 1, 1, 1, 1, 1, 1, 1, 1, 1, 1, 1, 1, 1, 1, 1, 1, 1, 1, 1, 1, 1, 1, 1, 1, 1, 1, 1, 1, 1, 1, 1, 1, 1, 1, 1, 1, 1, 1, 1, 1, 1, 1, 1, 1, 1, 1, 1, 1, 1, 1, 1, 1, 1, 1, 1, 1, 1, 1, 1, 1, 1, 1, 1, 1, 1, 1, 1, 1, 1, 1, 1, 1, 1, 1, 1, 1, 1, 1, 1, 1, 1, 1, 1, 1, 1, 1, 1, 1, 1, 1, 1, 1, 1, 1, 1, 1, 1, 1, 1, 1, 1, 1, 1, 1, 1, 1, 1, 1, 1, 1, 1, 1, 1, 1, 1, 1, 1, 1, 1, 1, 1, 1, 1, 1, 1, 1, 1, 1, 1, 1, 1, 1, 1, 1, 1, 1, 1, 1, 1, 1, 1, 1, 1, 1, 1, 1, 1, 1, 1, 1, 1, None]\n"
     ]
    }
   ],
   "source": [
    "sequence_ids = tokenized_example.sequence_ids()\n",
    "print(sequence_ids)"
   ]
  },
  {
   "cell_type": "code",
   "execution_count": 24,
   "metadata": {
    "scrolled": true
   },
   "outputs": [
    {
     "data": {
      "text/plain": [
       "{'text': ['over 1,600'], 'answer_start': [30]}"
      ]
     },
     "execution_count": 24,
     "metadata": {},
     "output_type": "execute_result"
    }
   ],
   "source": [
    "answers = example[\"answers\"]\n",
    "answers"
   ]
  },
  {
   "cell_type": "markdown",
   "metadata": {},
   "source": [
    "### The start value in answer indicates the character offset within the context where the answer starts. We're trying to find the tuple offset of this character in the offset array, thus result of the offset tuple index is less than this value.  Also, we need to find tje feature that contains the full answer. "
   ]
  },
  {
   "cell_type": "code",
   "execution_count": 25,
   "metadata": {},
   "outputs": [
    {
     "name": "stdout",
     "output_type": "stream",
     "text": [
      "context starts at index 16 in sequence_ids\n"
     ]
    }
   ],
   "source": [
    "ctx_start_index = 0\n",
    "while sequence_ids[ctx_start_index] != 1:\n",
    "    ctx_start_index += 1\n",
    "print(f'context starts at index {ctx_start_index} in sequence_ids')        "
   ]
  },
  {
   "cell_type": "markdown",
   "metadata": {},
   "source": [
    "It returns `None` for the special tokens, then 0 or 1 depending on whether the corresponding token comes from the first sentence past (the question) or the second (the context). Now with all of this, we can find the first and last token of the answer in one of our input feature (or if the answer is not in this feature):"
   ]
  },
  {
   "cell_type": "code",
   "execution_count": 26,
   "metadata": {},
   "outputs": [
    {
     "name": "stdout",
     "output_type": "stream",
     "text": [
      "start_char= 30 \n",
      " end_char=40 \n",
      "context range in sequence: 16 ~ 382 \n",
      "answer from 23 ~ 26\n"
     ]
    }
   ],
   "source": [
    "answers = example[\"answers\"]\n",
    "start_char = answers[\"answer_start\"][0]\n",
    "end_char = start_char + len(answers[\"text\"][0])\n",
    "print(f'start_char= {start_char} \\n end_char={end_char} ')\n",
    "\n",
    "# find start of context in sequence_ids which is first occurance of 1.\n",
    "ctx_start = 0\n",
    "while sequence_ids[ctx_start] != 1:\n",
    "    ctx_start += 1\n",
    "\n",
    "# End token index of the current span in the text.\n",
    "ctx_end = len(tokenized_example[\"input_ids\"][0]) - 1\n",
    "while sequence_ids[ctx_end] != 1:\n",
    "    ctx_end -= 1\n",
    "\n",
    "print(f'context range in sequence: {ctx_start} ~ {ctx_end} ')\n",
    "\n",
    "# Detect if the answer is out of the span (in which case this feature is labeled with the CLS index).\n",
    "offsets = tokenized_example[\"offset_mapping\"][0]\n",
    "if (offsets[ctx_start][0] <= start_char and offsets[ctx_end][1] >= end_char):\n",
    "    # Move the token_start_index and token_end_index to the two ends of the answer.\n",
    "    # Note: we could go after the last offset if the answer is the last word (edge case).\n",
    "    while ctx_start < len(offsets) and offsets[ctx_start][0] <= start_char:\n",
    "        ctx_start += 1\n",
    "    start_position = ctx_start - 1\n",
    "    \n",
    "    while offsets[ctx_end][1] >= end_char:\n",
    "        ctx_end -= 1\n",
    "    end_position = ctx_end + 1\n",
    "    #found answer within context in current feature\n",
    "    print(f'answer from {start_position} ~ {end_position}') \n",
    "else:\n",
    "    print(\"The answer is not in this feature.\")"
   ]
  },
  {
   "cell_type": "markdown",
   "metadata": {},
   "source": [
    "And we can double check that it is indeed the theoretical answer:"
   ]
  },
  {
   "cell_type": "code",
   "execution_count": 27,
   "metadata": {},
   "outputs": [
    {
     "name": "stdout",
     "output_type": "stream",
     "text": [
      "over 1, 600\n",
      "over 1,600\n"
     ]
    }
   ],
   "source": [
    "print(tokenizer.decode(tokenized_example[\"input_ids\"][0][start_position: end_position+1]))\n",
    "print(answers[\"text\"][0])"
   ]
  },
  {
   "cell_type": "markdown",
   "metadata": {},
   "source": [
    "Now let's put everything together in one function we will apply to our training set. In the case of impossible answers (the answer is in another feature given by an example with a long context), we set the cls index for both the start and end position. We could also simply discard those examples from the training set if the flag `allow_impossible_answers` is `False`. Since the preprocessing is already complex enough as it is, we've kept is simple for this part."
   ]
  },
  {
   "cell_type": "code",
   "execution_count": 28,
   "metadata": {},
   "outputs": [],
   "source": [
    "import numpy as np\n",
    "\n",
    "def prepare_train_features(examples):\n",
    "    # Some of the questions have lots of whitespace on the left, which is not useful and will make the\n",
    "    # truncation of the context fail (the tokenized question will take a lots of space). So we remove that\n",
    "    # left whitespace\n",
    "    examples[\"question\"] = [q.lstrip() for q in examples[\"question\"]]\n",
    "\n",
    "    # Tokenize our examples with truncation and padding, but keep the overflows using a stride. This results\n",
    "    # in one example possibly giving several features when a context is long, each of those features having a\n",
    "    # context that overlaps a bit the context of the previous feature.\n",
    "    tokenized_examples = tokenizer(examples[\"question\"], examples[\"context\"],\n",
    "                                   truncation=\"only_second\", max_length=max_length,\n",
    "                                   stride=doc_stride, return_overflowing_tokens=True,\n",
    "                                   return_offsets_mapping=True, padding=\"max_length\")        \n",
    "\n",
    "    # print(f'tokenized_examples has keys: {tokenized_examples.keys()}')\n",
    "    \n",
    "    # Since one example might give us several features if it has a long context, we need a map from a feature to\n",
    "    # its corresponding example. This key gives us just that.\n",
    "    sample_mapping = tokenized_examples.pop(\"overflow_to_sample_mapping\")\n",
    "    \n",
    "    # The offset mappings will give us a map from token to character position in the original context. This will\n",
    "    # help us compute the start_positions and end_positions.\n",
    "    # offset_mapping has shape [number of features][max_length][2] where last dim is tuple\n",
    "    offset_mapping = tokenized_examples.pop(\"offset_mapping\")\n",
    "    \n",
    "    # print(f\"sample_mapping={sample_mapping}, offset_mapping's shape shape={np.array(offset_mapping).shape}\")\n",
    "        \n",
    "    # add 2 keys to the tokenized_examples dict indicating the answer's positions within\n",
    "    # the feature spans. \n",
    "    tokenized_examples[\"start_positions\"] = []\n",
    "    tokenized_examples[\"end_positions\"] = []\n",
    "\n",
    "    for i, offsets in enumerate(offset_mapping):        \n",
    "        # We will label impossible answers with the index of the CLS token.\n",
    "        input_ids = tokenized_examples[\"input_ids\"][i]\n",
    "        cls_index = input_ids.index(tokenizer.cls_token_id)\n",
    "\n",
    "        # Grab the sequence corresponding to that example (to know what is the context and what is the question).\n",
    "        sequence_ids = tokenized_examples.sequence_ids(i)\n",
    "\n",
    "        # One example can give several spans, this is the index of the example containing this span of text.\n",
    "        sample_index = sample_mapping[i]\n",
    "        answers = examples[\"answers\"][sample_index] # get the answer for this sample\n",
    "        # If no answers are given, set the cls_index as answer.\n",
    "        if len(answers[\"answer_start\"]) == 0:\n",
    "            tokenized_examples[\"start_positions\"].append(cls_index)\n",
    "            tokenized_examples[\"end_positions\"].append(cls_index)\n",
    "        else:\n",
    "            # Start/end character index of the answer in the text.\n",
    "            start_char = answers[\"answer_start\"][0]\n",
    "            end_char = start_char + len(answers[\"text\"][0])\n",
    "\n",
    "            # Start token index of the current span in the text.\n",
    "            ctx_start = 0\n",
    "            while sequence_ids[ctx_start] != 1:\n",
    "                ctx_start += 1\n",
    "\n",
    "            # End token index of the current span in the text.\n",
    "            ctx_end = len(input_ids) - 1\n",
    "            while sequence_ids[ctx_end] != 1:\n",
    "                ctx_end -= 1\n",
    "\n",
    "            # Detect if the answer is out of the span (in which case this feature is labeled with the CLS index).\n",
    "            if not (offsets[ctx_start][0] <= start_char and offsets[ctx_end][1] >= end_char):\n",
    "                tokenized_examples[\"start_positions\"].append(cls_index)\n",
    "                tokenized_examples[\"end_positions\"].append(cls_index)\n",
    "            else:\n",
    "                # Otherwise move the token_start_index and token_end_index to the two ends of the answer.\n",
    "                # Note: we could go after the last offset if the answer is the last word (edge case).\n",
    "                while ctx_start < len(offsets) and offsets[ctx_start][0] <= start_char:\n",
    "                    ctx_start += 1 # find the tuple in offsets where 1st value is start_char position of answer\n",
    "                tokenized_examples[\"start_positions\"].append(ctx_start - 1)\n",
    "                while offsets[ctx_end][1] >= end_char:\n",
    "                    ctx_end -= 1\n",
    "                tokenized_examples[\"end_positions\"].append(ctx_end + 1)\n",
    "\n",
    "    return tokenized_examples"
   ]
  },
  {
   "cell_type": "markdown",
   "metadata": {
    "id": "0lm8ozrJIrJR"
   },
   "source": [
    "This function works with one or several examples. In the case of several examples, the tokenizer will return a list of lists for each key:"
   ]
  },
  {
   "cell_type": "code",
   "execution_count": 29,
   "metadata": {
    "id": "-b70jh26IrJS",
    "outputId": "acd3a42d-985b-44ee-9daa-af5d944ce1d9"
   },
   "outputs": [
    {
     "name": "stdout",
     "output_type": "stream",
     "text": [
      "returned feature has keys: dict_keys(['input_ids', 'attention_mask', 'start_positions', 'end_positions']) \n"
     ]
    }
   ],
   "source": [
    "features = prepare_train_features(datasets['train'][248:250])\n",
    "print(f'returned feature has keys: {features.keys()} ')"
   ]
  },
  {
   "cell_type": "markdown",
   "metadata": {
    "id": "zS-6iXTkIrJT"
   },
   "source": [
    "To apply this function on all the sentences (or pairs of sentences) in our dataset, we just use the `map` method of our `dataset` object we created earlier. This will apply the function on all the elements of all the splits in `dataset`, so our training, validation and testing data will be preprocessed in one single command. Since our preprocessing changes the number of samples, we need to remove the old columns when applying it."
   ]
  },
  {
   "cell_type": "code",
   "execution_count": 30,
   "metadata": {
    "id": "DDtsaJeVIrJT",
    "outputId": "aa4734bf-4ef5-4437-9948-2c16363da719",
    "scrolled": true
   },
   "outputs": [
    {
     "name": "stdout",
     "output_type": "stream",
     "text": [
      "before pre-processing, dataset:\n",
      "\n",
      " DatasetDict({\n",
      "    train: Dataset({\n",
      "        features: ['id', 'title', 'context', 'question', 'answers'],\n",
      "        num_rows: 87599\n",
      "    })\n",
      "    validation: Dataset({\n",
      "        features: ['id', 'title', 'context', 'question', 'answers'],\n",
      "        num_rows: 10570\n",
      "    })\n",
      "})\n"
     ]
    },
    {
     "name": "stderr",
     "output_type": "stream",
     "text": [
      "100%|██████████| 88/88 [00:22<00:00,  3.86ba/s]\n",
      "100%|██████████| 11/11 [00:02<00:00,  3.75ba/s]\n"
     ]
    }
   ],
   "source": [
    "print(f'before pre-processing, dataset:\\n\\n {datasets}')\n",
    "tokenized_datasets = datasets.map(prepare_train_features, batched=True, remove_columns=datasets[\"train\"].column_names)"
   ]
  },
  {
   "cell_type": "code",
   "execution_count": 31,
   "metadata": {},
   "outputs": [
    {
     "name": "stdout",
     "output_type": "stream",
     "text": [
      "after pre-processing, tokenized dataset: \n",
      "\n",
      " DatasetDict({\n",
      "    train: Dataset({\n",
      "        features: ['attention_mask', 'end_positions', 'input_ids', 'start_positions'],\n",
      "        num_rows: 88524\n",
      "    })\n",
      "    validation: Dataset({\n",
      "        features: ['attention_mask', 'end_positions', 'input_ids', 'start_positions'],\n",
      "        num_rows: 10784\n",
      "    })\n",
      "}) \n"
     ]
    }
   ],
   "source": [
    "print(f'after pre-processing, tokenized dataset: \\n\\n {tokenized_datasets} ')"
   ]
  },
  {
   "cell_type": "markdown",
   "metadata": {
    "id": "voWiw8C7IrJV"
   },
   "source": [
    "Even better, the results are automatically cached by the 🤗 Datasets library to avoid spending time on this step the next time you run your notebook. The 🤗 Datasets library is normally smart enough to detect when the function you pass to map has changed (and thus requires to not use the cache data). For instance, it will properly detect if you change the task in the first cell and rerun the notebook. 🤗 Datasets warns you when it uses cached files, you can pass `load_from_cache_file=False` in the call to `map` to not use the cached files and force the preprocessing to be applied again.\n",
    "\n",
    "Note that we passed `batched=True` to encode the texts by batches together. This is to leverage the full benefit of the fast tokenizer we loaded earlier, which will use multi-threading to treat the texts in a batch concurrently."
   ]
  },
  {
   "cell_type": "markdown",
   "metadata": {
    "id": "545PP3o8IrJV"
   },
   "source": [
    "## Fine-tuning the model"
   ]
  },
  {
   "cell_type": "markdown",
   "metadata": {
    "id": "FBiW8UpKIrJW"
   },
   "source": [
    "Now that our data is ready for training, we can download the pretrained model and fine-tune it. Since our task is question answering, we use the `AutoModelForQuestionAnswering` class. Like with the tokenizer, the `from_pretrained` method will download and cache the model for us:"
   ]
  },
  {
   "cell_type": "code",
   "execution_count": 32,
   "metadata": {
    "id": "TlqNaB8jIrJW",
    "outputId": "84916cf3-6e6c-47f3-d081-032ec30a4132",
    "scrolled": true
   },
   "outputs": [
    {
     "name": "stderr",
     "output_type": "stream",
     "text": [
      "Some weights of the model checkpoint at distilbert-base-uncased were not used when initializing DistilBertForQuestionAnswering: ['vocab_layer_norm.bias', 'vocab_projector.bias', 'vocab_projector.weight', 'vocab_transform.bias', 'vocab_transform.weight', 'vocab_layer_norm.weight']\n",
      "- This IS expected if you are initializing DistilBertForQuestionAnswering from the checkpoint of a model trained on another task or with another architecture (e.g. initializing a BertForSequenceClassification model from a BertForPreTraining model).\n",
      "- This IS NOT expected if you are initializing DistilBertForQuestionAnswering from the checkpoint of a model that you expect to be exactly identical (initializing a BertForSequenceClassification model from a BertForSequenceClassification model).\n",
      "Some weights of DistilBertForQuestionAnswering were not initialized from the model checkpoint at distilbert-base-uncased and are newly initialized: ['qa_outputs.weight', 'qa_outputs.bias']\n",
      "You should probably TRAIN this model on a down-stream task to be able to use it for predictions and inference.\n"
     ]
    }
   ],
   "source": [
    "from transformers import AutoModelForQuestionAnswering, TrainingArguments, Trainer\n",
    "\n",
    "model = AutoModelForQuestionAnswering.from_pretrained(model_checkpoint)"
   ]
  },
  {
   "cell_type": "markdown",
   "metadata": {
    "id": "CczA5lJlIrJX"
   },
   "source": [
    "The warning is telling us we are throwing away some weights (the `vocab_transform` and `vocab_layer_norm` layers) and randomly initializing some other (the `pre_classifier` and `classifier` layers). This is absolutely normal in this case, because we are removing the head used to pretrain the model on a masked language modeling objective and replacing it with a new head for which we don't have pretrained weights, so the library warns us we should fine-tune this model before using it for inference, which is exactly what we are going to do."
   ]
  },
  {
   "cell_type": "markdown",
   "metadata": {},
   "source": [
    "### hyper parameters"
   ]
  },
  {
   "cell_type": "code",
   "execution_count": 33,
   "metadata": {},
   "outputs": [],
   "source": [
    "import math \n",
    "\n",
    "epochs=10\n",
    "lr=1e-4\n",
    "totalSteps=math.ceil(datasets['train'].num_rows/batch_size)*epochs"
   ]
  },
  {
   "cell_type": "markdown",
   "metadata": {},
   "source": [
    "### Setup optimzzer and scheduler"
   ]
  },
  {
   "cell_type": "code",
   "execution_count": 34,
   "metadata": {},
   "outputs": [],
   "source": [
    "from transformers import AdamW\n",
    "from transformers import get_scheduler\n",
    "\n",
    "opt=AdamW(model.parameters(), lr=lr)\n",
    "scheduler = get_scheduler(\"cosine\",optimizer=opt,num_warmup_steps=totalSteps//2, num_training_steps=totalSteps)"
   ]
  },
  {
   "cell_type": "markdown",
   "metadata": {
    "id": "_N8urzhyIrJY"
   },
   "source": [
    "To instantiate a `Trainer`, we will need to define three more things. The most important is the [`TrainingArguments`](https://huggingface.co/transformers/main_classes/trainer.html#transformers.TrainingArguments), which is a class that contains all the attributes to customize the training. It requires one folder name, which will be used to save the checkpoints of the model, and all other arguments are optional:"
   ]
  },
  {
   "cell_type": "code",
   "execution_count": 35,
   "metadata": {
    "id": "Bliy8zgjIrJY"
   },
   "outputs": [],
   "source": [
    "args = TrainingArguments(\n",
    "    f\"test-squad\",\n",
    "    evaluation_strategy = \"epoch\",\n",
    "    # learning_rate=lr,\n",
    "    per_device_train_batch_size=batch_size,\n",
    "    per_device_eval_batch_size=batch_size,\n",
    "    num_train_epochs=epochs,\n",
    "    weight_decay=0.01,    \n",
    ")"
   ]
  },
  {
   "cell_type": "markdown",
   "metadata": {
    "id": "km3pGVdTIrJc"
   },
   "source": [
    "Here we set the evaluation to be done at the end of each epoch, tweak the learning rate, use the `batch_size` defined at the top of the notebook and customize the number of epochs for training, as well as the weight decay.\n",
    "\n",
    "The last two arguments are to setup everything so we can push the model to the [Hub](https://huggingface.co/models) at the end of training. Remove the two of them if you didn't follow the installation steps at the top of the notebook, otherwise you can change the value of `push_to_hub_model_id` to something you would prefer."
   ]
  },
  {
   "cell_type": "markdown",
   "metadata": {},
   "source": [
    "Then we will need a data collator that will batch our processed examples together, here the default one will work:"
   ]
  },
  {
   "cell_type": "code",
   "execution_count": 36,
   "metadata": {},
   "outputs": [],
   "source": [
    "from transformers import default_data_collator\n",
    "\n",
    "data_collator = default_data_collator"
   ]
  },
  {
   "cell_type": "markdown",
   "metadata": {
    "id": "rXuFTAzDIrJe"
   },
   "source": [
    "We will evaluate our model and compute metrics in the next section (this is a very long operation, so we will only compute the evaluation loss during training).\n",
    "\n",
    "Then we just need to pass all of this along with our datasets to the `Trainer`:"
   ]
  },
  {
   "cell_type": "code",
   "execution_count": 37,
   "metadata": {
    "id": "imY1oC3SIrJf"
   },
   "outputs": [],
   "source": [
    "trainer = Trainer(\n",
    "    model,\n",
    "    args,\n",
    "    train_dataset=tokenized_datasets[\"train\"],\n",
    "    eval_dataset=tokenized_datasets[\"validation\"],\n",
    "    data_collator=data_collator,\n",
    "    optimizers=(opt, scheduler), \n",
    "    tokenizer=tokenizer,\n",
    ")"
   ]
  },
  {
   "cell_type": "markdown",
   "metadata": {
    "id": "CdzABDVcIrJg"
   },
   "source": [
    "We can now finetune our model by just calling the `train` method:"
   ]
  },
  {
   "cell_type": "code",
   "execution_count": 38,
   "metadata": {
    "id": "uNx5pyRlIrJh",
    "outputId": "077e661e-d36c-469b-89b8-7ff7f73541ec"
   },
   "outputs": [
    {
     "name": "stderr",
     "output_type": "stream",
     "text": [
      "***** Running training *****\n",
      "  Num examples = 88524\n",
      "  Num Epochs = 10\n",
      "  Instantaneous batch size per device = 24\n",
      "  Total train batch size (w. parallel, distributed & accumulation) = 24\n",
      "  Gradient Accumulation steps = 1\n",
      "  Total optimization steps = 36890\n",
      "  1%|▏         | 500/36890 [07:28<8:25:50,  1.20it/s] Saving model checkpoint to test-squad/checkpoint-500\n",
      "Configuration saved in test-squad/checkpoint-500/config.json\n"
     ]
    },
    {
     "name": "stdout",
     "output_type": "stream",
     "text": [
      "{'loss': 5.4237, 'learning_rate': 2.7397260273972604e-06, 'epoch': 0.14}\n"
     ]
    },
    {
     "name": "stderr",
     "output_type": "stream",
     "text": [
      "Model weights saved in test-squad/checkpoint-500/pytorch_model.bin\n",
      "tokenizer config file saved in test-squad/checkpoint-500/tokenizer_config.json\n",
      "Special tokens file saved in test-squad/checkpoint-500/special_tokens_map.json\n",
      "  3%|▎         | 1000/36890 [14:31<8:16:53,  1.20it/s]Saving model checkpoint to test-squad/checkpoint-1000\n",
      "Configuration saved in test-squad/checkpoint-1000/config.json\n"
     ]
    },
    {
     "name": "stdout",
     "output_type": "stream",
     "text": [
      "{'loss': 3.5798, 'learning_rate': 5.479452054794521e-06, 'epoch': 0.27}\n"
     ]
    },
    {
     "name": "stderr",
     "output_type": "stream",
     "text": [
      "Model weights saved in test-squad/checkpoint-1000/pytorch_model.bin\n",
      "tokenizer config file saved in test-squad/checkpoint-1000/tokenizer_config.json\n",
      "Special tokens file saved in test-squad/checkpoint-1000/special_tokens_map.json\n",
      "  4%|▍         | 1500/36890 [21:28<8:09:07,  1.21it/s] Saving model checkpoint to test-squad/checkpoint-1500\n",
      "Configuration saved in test-squad/checkpoint-1500/config.json\n"
     ]
    },
    {
     "name": "stdout",
     "output_type": "stream",
     "text": [
      "{'loss': 2.405, 'learning_rate': 8.21917808219178e-06, 'epoch': 0.41}\n"
     ]
    },
    {
     "name": "stderr",
     "output_type": "stream",
     "text": [
      "Model weights saved in test-squad/checkpoint-1500/pytorch_model.bin\n",
      "tokenizer config file saved in test-squad/checkpoint-1500/tokenizer_config.json\n",
      "Special tokens file saved in test-squad/checkpoint-1500/special_tokens_map.json\n",
      "  5%|▌         | 2000/36890 [28:22<8:00:54,  1.21it/s] Saving model checkpoint to test-squad/checkpoint-2000\n",
      "Configuration saved in test-squad/checkpoint-2000/config.json\n"
     ]
    },
    {
     "name": "stdout",
     "output_type": "stream",
     "text": [
      "{'loss': 1.8434, 'learning_rate': 1.0958904109589042e-05, 'epoch': 0.54}\n"
     ]
    },
    {
     "name": "stderr",
     "output_type": "stream",
     "text": [
      "Model weights saved in test-squad/checkpoint-2000/pytorch_model.bin\n",
      "tokenizer config file saved in test-squad/checkpoint-2000/tokenizer_config.json\n",
      "Special tokens file saved in test-squad/checkpoint-2000/special_tokens_map.json\n",
      "  7%|▋         | 2500/36890 [35:13<7:50:40,  1.22it/s] Saving model checkpoint to test-squad/checkpoint-2500\n",
      "Configuration saved in test-squad/checkpoint-2500/config.json\n"
     ]
    },
    {
     "name": "stdout",
     "output_type": "stream",
     "text": [
      "{'loss': 1.5961, 'learning_rate': 1.3698630136986302e-05, 'epoch': 0.68}\n"
     ]
    },
    {
     "name": "stderr",
     "output_type": "stream",
     "text": [
      "Model weights saved in test-squad/checkpoint-2500/pytorch_model.bin\n",
      "tokenizer config file saved in test-squad/checkpoint-2500/tokenizer_config.json\n",
      "Special tokens file saved in test-squad/checkpoint-2500/special_tokens_map.json\n",
      "  8%|▊         | 3000/36890 [42:02<7:20:19,  1.28it/s] Saving model checkpoint to test-squad/checkpoint-3000\n",
      "Configuration saved in test-squad/checkpoint-3000/config.json\n"
     ]
    },
    {
     "name": "stdout",
     "output_type": "stream",
     "text": [
      "{'loss': 1.5257, 'learning_rate': 1.643835616438356e-05, 'epoch': 0.81}\n"
     ]
    },
    {
     "name": "stderr",
     "output_type": "stream",
     "text": [
      "Model weights saved in test-squad/checkpoint-3000/pytorch_model.bin\n",
      "tokenizer config file saved in test-squad/checkpoint-3000/tokenizer_config.json\n",
      "Special tokens file saved in test-squad/checkpoint-3000/special_tokens_map.json\n",
      "  9%|▉         | 3500/36890 [48:33<7:13:36,  1.28it/s] Saving model checkpoint to test-squad/checkpoint-3500\n",
      "Configuration saved in test-squad/checkpoint-3500/config.json\n"
     ]
    },
    {
     "name": "stdout",
     "output_type": "stream",
     "text": [
      "{'loss': 1.4106, 'learning_rate': 1.9178082191780822e-05, 'epoch': 0.95}\n"
     ]
    },
    {
     "name": "stderr",
     "output_type": "stream",
     "text": [
      "Model weights saved in test-squad/checkpoint-3500/pytorch_model.bin\n",
      "tokenizer config file saved in test-squad/checkpoint-3500/tokenizer_config.json\n",
      "Special tokens file saved in test-squad/checkpoint-3500/special_tokens_map.json\n",
      " 10%|█         | 3689/36890 [51:01<6:10:58,  1.49it/s] ***** Running Evaluation *****\n",
      "  Num examples = 10784\n",
      "  Batch size = 24\n",
      "                                                      \n",
      " 10%|█         | 3689/36890 [52:58<6:10:58,  1.49it/s]"
     ]
    },
    {
     "name": "stdout",
     "output_type": "stream",
     "text": [
      "{'eval_loss': 1.3132668733596802, 'eval_runtime': 116.7432, 'eval_samples_per_second': 92.374, 'eval_steps_per_second': 3.855, 'epoch': 1.0}\n"
     ]
    },
    {
     "name": "stderr",
     "output_type": "stream",
     "text": [
      " 11%|█         | 4000/36890 [57:01<7:07:09,  1.28it/s]  Saving model checkpoint to test-squad/checkpoint-4000\n",
      "Configuration saved in test-squad/checkpoint-4000/config.json\n"
     ]
    },
    {
     "name": "stdout",
     "output_type": "stream",
     "text": [
      "{'loss': 1.3119, 'learning_rate': 2.1917808219178083e-05, 'epoch': 1.08}\n"
     ]
    },
    {
     "name": "stderr",
     "output_type": "stream",
     "text": [
      "Model weights saved in test-squad/checkpoint-4000/pytorch_model.bin\n",
      "tokenizer config file saved in test-squad/checkpoint-4000/tokenizer_config.json\n",
      "Special tokens file saved in test-squad/checkpoint-4000/special_tokens_map.json\n",
      " 12%|█▏        | 4500/36890 [1:03:32<7:00:22,  1.28it/s]Saving model checkpoint to test-squad/checkpoint-4500\n",
      "Configuration saved in test-squad/checkpoint-4500/config.json\n"
     ]
    },
    {
     "name": "stdout",
     "output_type": "stream",
     "text": [
      "{'loss': 1.206, 'learning_rate': 2.4657534246575342e-05, 'epoch': 1.22}\n"
     ]
    },
    {
     "name": "stderr",
     "output_type": "stream",
     "text": [
      "Model weights saved in test-squad/checkpoint-4500/pytorch_model.bin\n",
      "tokenizer config file saved in test-squad/checkpoint-4500/tokenizer_config.json\n",
      "Special tokens file saved in test-squad/checkpoint-4500/special_tokens_map.json\n",
      " 14%|█▎        | 5000/36890 [1:10:04<6:54:28,  1.28it/s]Saving model checkpoint to test-squad/checkpoint-5000\n",
      "Configuration saved in test-squad/checkpoint-5000/config.json\n"
     ]
    },
    {
     "name": "stdout",
     "output_type": "stream",
     "text": [
      "{'loss': 1.2114, 'learning_rate': 2.7397260273972603e-05, 'epoch': 1.36}\n"
     ]
    },
    {
     "name": "stderr",
     "output_type": "stream",
     "text": [
      "Model weights saved in test-squad/checkpoint-5000/pytorch_model.bin\n",
      "tokenizer config file saved in test-squad/checkpoint-5000/tokenizer_config.json\n",
      "Special tokens file saved in test-squad/checkpoint-5000/special_tokens_map.json\n",
      " 15%|█▍        | 5500/36890 [1:16:35<6:47:34,  1.28it/s]Saving model checkpoint to test-squad/checkpoint-5500\n",
      "Configuration saved in test-squad/checkpoint-5500/config.json\n"
     ]
    },
    {
     "name": "stdout",
     "output_type": "stream",
     "text": [
      "{'loss': 1.1978, 'learning_rate': 3.0136986301369862e-05, 'epoch': 1.49}\n"
     ]
    },
    {
     "name": "stderr",
     "output_type": "stream",
     "text": [
      "Model weights saved in test-squad/checkpoint-5500/pytorch_model.bin\n",
      "tokenizer config file saved in test-squad/checkpoint-5500/tokenizer_config.json\n",
      "Special tokens file saved in test-squad/checkpoint-5500/special_tokens_map.json\n",
      " 16%|█▋        | 6000/36890 [1:23:07<6:41:11,  1.28it/s]Saving model checkpoint to test-squad/checkpoint-6000\n",
      "Configuration saved in test-squad/checkpoint-6000/config.json\n"
     ]
    },
    {
     "name": "stdout",
     "output_type": "stream",
     "text": [
      "{'loss': 1.1623, 'learning_rate': 3.287671232876712e-05, 'epoch': 1.63}\n"
     ]
    },
    {
     "name": "stderr",
     "output_type": "stream",
     "text": [
      "Model weights saved in test-squad/checkpoint-6000/pytorch_model.bin\n",
      "tokenizer config file saved in test-squad/checkpoint-6000/tokenizer_config.json\n",
      "Special tokens file saved in test-squad/checkpoint-6000/special_tokens_map.json\n",
      " 18%|█▊        | 6500/36890 [1:29:38<6:34:42,  1.28it/s]Saving model checkpoint to test-squad/checkpoint-6500\n",
      "Configuration saved in test-squad/checkpoint-6500/config.json\n"
     ]
    },
    {
     "name": "stdout",
     "output_type": "stream",
     "text": [
      "{'loss': 1.1382, 'learning_rate': 3.561643835616438e-05, 'epoch': 1.76}\n"
     ]
    },
    {
     "name": "stderr",
     "output_type": "stream",
     "text": [
      "Model weights saved in test-squad/checkpoint-6500/pytorch_model.bin\n",
      "tokenizer config file saved in test-squad/checkpoint-6500/tokenizer_config.json\n",
      "Special tokens file saved in test-squad/checkpoint-6500/special_tokens_map.json\n",
      " 19%|█▉        | 7000/36890 [1:36:09<6:28:10,  1.28it/s]Saving model checkpoint to test-squad/checkpoint-7000\n",
      "Configuration saved in test-squad/checkpoint-7000/config.json\n"
     ]
    },
    {
     "name": "stdout",
     "output_type": "stream",
     "text": [
      "{'loss': 1.1412, 'learning_rate': 3.8356164383561644e-05, 'epoch': 1.9}\n"
     ]
    },
    {
     "name": "stderr",
     "output_type": "stream",
     "text": [
      "Model weights saved in test-squad/checkpoint-7000/pytorch_model.bin\n",
      "tokenizer config file saved in test-squad/checkpoint-7000/tokenizer_config.json\n",
      "Special tokens file saved in test-squad/checkpoint-7000/special_tokens_map.json\n",
      " 20%|██        | 7378/36890 [1:41:05<5:30:04,  1.49it/s]***** Running Evaluation *****\n",
      "  Num examples = 10784\n",
      "  Batch size = 24\n",
      "                                                        \n",
      " 20%|██        | 7378/36890 [1:43:02<5:30:04,  1.49it/s]"
     ]
    },
    {
     "name": "stdout",
     "output_type": "stream",
     "text": [
      "{'eval_loss': 1.1713428497314453, 'eval_runtime': 116.7748, 'eval_samples_per_second': 92.349, 'eval_steps_per_second': 3.854, 'epoch': 2.0}\n"
     ]
    },
    {
     "name": "stderr",
     "output_type": "stream",
     "text": [
      " 20%|██        | 7500/36890 [1:44:37<6:21:50,  1.28it/s]  Saving model checkpoint to test-squad/checkpoint-7500\n",
      "Configuration saved in test-squad/checkpoint-7500/config.json\n"
     ]
    },
    {
     "name": "stdout",
     "output_type": "stream",
     "text": [
      "{'loss': 1.0742, 'learning_rate': 4.1095890410958905e-05, 'epoch': 2.03}\n"
     ]
    },
    {
     "name": "stderr",
     "output_type": "stream",
     "text": [
      "Model weights saved in test-squad/checkpoint-7500/pytorch_model.bin\n",
      "tokenizer config file saved in test-squad/checkpoint-7500/tokenizer_config.json\n",
      "Special tokens file saved in test-squad/checkpoint-7500/special_tokens_map.json\n",
      " 22%|██▏       | 8000/36890 [1:51:08<6:15:27,  1.28it/s]Saving model checkpoint to test-squad/checkpoint-8000\n",
      "Configuration saved in test-squad/checkpoint-8000/config.json\n"
     ]
    },
    {
     "name": "stdout",
     "output_type": "stream",
     "text": [
      "{'loss': 0.8881, 'learning_rate': 4.383561643835617e-05, 'epoch': 2.17}\n"
     ]
    },
    {
     "name": "stderr",
     "output_type": "stream",
     "text": [
      "Model weights saved in test-squad/checkpoint-8000/pytorch_model.bin\n",
      "tokenizer config file saved in test-squad/checkpoint-8000/tokenizer_config.json\n",
      "Special tokens file saved in test-squad/checkpoint-8000/special_tokens_map.json\n",
      " 23%|██▎       | 8500/36890 [1:57:40<6:12:42,  1.27it/s]Saving model checkpoint to test-squad/checkpoint-8500\n",
      "Configuration saved in test-squad/checkpoint-8500/config.json\n"
     ]
    },
    {
     "name": "stdout",
     "output_type": "stream",
     "text": [
      "{'loss': 0.8916, 'learning_rate': 4.657534246575342e-05, 'epoch': 2.3}\n"
     ]
    },
    {
     "name": "stderr",
     "output_type": "stream",
     "text": [
      "Model weights saved in test-squad/checkpoint-8500/pytorch_model.bin\n",
      "tokenizer config file saved in test-squad/checkpoint-8500/tokenizer_config.json\n",
      "Special tokens file saved in test-squad/checkpoint-8500/special_tokens_map.json\n",
      " 24%|██▍       | 9000/36890 [2:04:11<6:02:00,  1.28it/s]Saving model checkpoint to test-squad/checkpoint-9000\n",
      "Configuration saved in test-squad/checkpoint-9000/config.json\n"
     ]
    },
    {
     "name": "stdout",
     "output_type": "stream",
     "text": [
      "{'loss': 0.9141, 'learning_rate': 4.9315068493150684e-05, 'epoch': 2.44}\n"
     ]
    },
    {
     "name": "stderr",
     "output_type": "stream",
     "text": [
      "Model weights saved in test-squad/checkpoint-9000/pytorch_model.bin\n",
      "tokenizer config file saved in test-squad/checkpoint-9000/tokenizer_config.json\n",
      "Special tokens file saved in test-squad/checkpoint-9000/special_tokens_map.json\n",
      " 26%|██▌       | 9500/36890 [2:10:43<5:56:23,  1.28it/s]Saving model checkpoint to test-squad/checkpoint-9500\n",
      "Configuration saved in test-squad/checkpoint-9500/config.json\n"
     ]
    },
    {
     "name": "stdout",
     "output_type": "stream",
     "text": [
      "{'loss': 0.9277, 'learning_rate': 5.2054794520547945e-05, 'epoch': 2.58}\n"
     ]
    },
    {
     "name": "stderr",
     "output_type": "stream",
     "text": [
      "Model weights saved in test-squad/checkpoint-9500/pytorch_model.bin\n",
      "tokenizer config file saved in test-squad/checkpoint-9500/tokenizer_config.json\n",
      "Special tokens file saved in test-squad/checkpoint-9500/special_tokens_map.json\n",
      " 27%|██▋       | 10000/36890 [2:17:14<5:49:23,  1.28it/s]Saving model checkpoint to test-squad/checkpoint-10000\n",
      "Configuration saved in test-squad/checkpoint-10000/config.json\n"
     ]
    },
    {
     "name": "stdout",
     "output_type": "stream",
     "text": [
      "{'loss': 0.9498, 'learning_rate': 5.479452054794521e-05, 'epoch': 2.71}\n"
     ]
    },
    {
     "name": "stderr",
     "output_type": "stream",
     "text": [
      "Model weights saved in test-squad/checkpoint-10000/pytorch_model.bin\n",
      "tokenizer config file saved in test-squad/checkpoint-10000/tokenizer_config.json\n",
      "Special tokens file saved in test-squad/checkpoint-10000/special_tokens_map.json\n",
      " 28%|██▊       | 10500/36890 [2:23:45<5:43:22,  1.28it/s]Saving model checkpoint to test-squad/checkpoint-10500\n",
      "Configuration saved in test-squad/checkpoint-10500/config.json\n"
     ]
    },
    {
     "name": "stdout",
     "output_type": "stream",
     "text": [
      "{'loss': 0.9397, 'learning_rate': 5.753424657534247e-05, 'epoch': 2.85}\n"
     ]
    },
    {
     "name": "stderr",
     "output_type": "stream",
     "text": [
      "Model weights saved in test-squad/checkpoint-10500/pytorch_model.bin\n",
      "tokenizer config file saved in test-squad/checkpoint-10500/tokenizer_config.json\n",
      "Special tokens file saved in test-squad/checkpoint-10500/special_tokens_map.json\n",
      " 30%|██▉       | 11000/36890 [2:30:33<5:50:20,  1.23it/s]Saving model checkpoint to test-squad/checkpoint-11000\n",
      "Configuration saved in test-squad/checkpoint-11000/config.json\n"
     ]
    },
    {
     "name": "stdout",
     "output_type": "stream",
     "text": [
      "{'loss': 0.9872, 'learning_rate': 6.0273972602739724e-05, 'epoch': 2.98}\n"
     ]
    },
    {
     "name": "stderr",
     "output_type": "stream",
     "text": [
      "Model weights saved in test-squad/checkpoint-11000/pytorch_model.bin\n",
      "tokenizer config file saved in test-squad/checkpoint-11000/tokenizer_config.json\n",
      "Special tokens file saved in test-squad/checkpoint-11000/special_tokens_map.json\n",
      " 30%|███       | 11067/36890 [2:31:28<5:00:08,  1.43it/s]***** Running Evaluation *****\n",
      "  Num examples = 10784\n",
      "  Batch size = 24\n",
      "                                                         \n",
      " 30%|███       | 11067/36890 [2:33:30<5:00:08,  1.43it/s]"
     ]
    },
    {
     "name": "stdout",
     "output_type": "stream",
     "text": [
      "{'eval_loss': 1.1991620063781738, 'eval_runtime': 121.4866, 'eval_samples_per_second': 88.767, 'eval_steps_per_second': 3.704, 'epoch': 3.0}\n"
     ]
    },
    {
     "name": "stderr",
     "output_type": "stream",
     "text": [
      " 31%|███       | 11500/36890 [2:39:20<5:43:18,  1.23it/s]  Saving model checkpoint to test-squad/checkpoint-11500\n",
      "Configuration saved in test-squad/checkpoint-11500/config.json\n"
     ]
    },
    {
     "name": "stdout",
     "output_type": "stream",
     "text": [
      "{'loss': 0.7038, 'learning_rate': 6.301369863013699e-05, 'epoch': 3.12}\n"
     ]
    },
    {
     "name": "stderr",
     "output_type": "stream",
     "text": [
      "Model weights saved in test-squad/checkpoint-11500/pytorch_model.bin\n",
      "tokenizer config file saved in test-squad/checkpoint-11500/tokenizer_config.json\n",
      "Special tokens file saved in test-squad/checkpoint-11500/special_tokens_map.json\n",
      " 33%|███▎      | 12000/36890 [2:46:07<5:34:45,  1.24it/s]Saving model checkpoint to test-squad/checkpoint-12000\n",
      "Configuration saved in test-squad/checkpoint-12000/config.json\n"
     ]
    },
    {
     "name": "stdout",
     "output_type": "stream",
     "text": [
      "{'loss': 0.7008, 'learning_rate': 6.575342465753424e-05, 'epoch': 3.25}\n"
     ]
    },
    {
     "name": "stderr",
     "output_type": "stream",
     "text": [
      "Model weights saved in test-squad/checkpoint-12000/pytorch_model.bin\n",
      "tokenizer config file saved in test-squad/checkpoint-12000/tokenizer_config.json\n",
      "Special tokens file saved in test-squad/checkpoint-12000/special_tokens_map.json\n",
      " 34%|███▍      | 12500/36890 [2:52:52<5:29:15,  1.23it/s]Saving model checkpoint to test-squad/checkpoint-12500\n",
      "Configuration saved in test-squad/checkpoint-12500/config.json\n"
     ]
    },
    {
     "name": "stdout",
     "output_type": "stream",
     "text": [
      "{'loss': 0.7495, 'learning_rate': 6.84931506849315e-05, 'epoch': 3.39}\n"
     ]
    },
    {
     "name": "stderr",
     "output_type": "stream",
     "text": [
      "Model weights saved in test-squad/checkpoint-12500/pytorch_model.bin\n",
      "tokenizer config file saved in test-squad/checkpoint-12500/tokenizer_config.json\n",
      "Special tokens file saved in test-squad/checkpoint-12500/special_tokens_map.json\n",
      " 35%|███▌      | 13000/36890 [2:59:31<5:10:10,  1.28it/s]Saving model checkpoint to test-squad/checkpoint-13000\n",
      "Configuration saved in test-squad/checkpoint-13000/config.json\n"
     ]
    },
    {
     "name": "stdout",
     "output_type": "stream",
     "text": [
      "{'loss': 0.7515, 'learning_rate': 7.123287671232876e-05, 'epoch': 3.52}\n"
     ]
    },
    {
     "name": "stderr",
     "output_type": "stream",
     "text": [
      "Model weights saved in test-squad/checkpoint-13000/pytorch_model.bin\n",
      "tokenizer config file saved in test-squad/checkpoint-13000/tokenizer_config.json\n",
      "Special tokens file saved in test-squad/checkpoint-13000/special_tokens_map.json\n",
      " 37%|███▋      | 13500/36890 [3:06:02<5:03:34,  1.28it/s]Saving model checkpoint to test-squad/checkpoint-13500\n",
      "Configuration saved in test-squad/checkpoint-13500/config.json\n"
     ]
    },
    {
     "name": "stdout",
     "output_type": "stream",
     "text": [
      "{'loss': 0.7723, 'learning_rate': 7.397260273972603e-05, 'epoch': 3.66}\n"
     ]
    },
    {
     "name": "stderr",
     "output_type": "stream",
     "text": [
      "Model weights saved in test-squad/checkpoint-13500/pytorch_model.bin\n",
      "tokenizer config file saved in test-squad/checkpoint-13500/tokenizer_config.json\n",
      "Special tokens file saved in test-squad/checkpoint-13500/special_tokens_map.json\n",
      " 38%|███▊      | 14000/36890 [3:12:34<4:57:02,  1.28it/s]Saving model checkpoint to test-squad/checkpoint-14000\n",
      "Configuration saved in test-squad/checkpoint-14000/config.json\n"
     ]
    },
    {
     "name": "stdout",
     "output_type": "stream",
     "text": [
      "{'loss': 0.8269, 'learning_rate': 7.671232876712329e-05, 'epoch': 3.8}\n"
     ]
    },
    {
     "name": "stderr",
     "output_type": "stream",
     "text": [
      "Model weights saved in test-squad/checkpoint-14000/pytorch_model.bin\n",
      "tokenizer config file saved in test-squad/checkpoint-14000/tokenizer_config.json\n",
      "Special tokens file saved in test-squad/checkpoint-14000/special_tokens_map.json\n",
      " 39%|███▉      | 14500/36890 [3:19:05<4:50:17,  1.29it/s]Saving model checkpoint to test-squad/checkpoint-14500\n",
      "Configuration saved in test-squad/checkpoint-14500/config.json\n"
     ]
    },
    {
     "name": "stdout",
     "output_type": "stream",
     "text": [
      "{'loss': 0.8144, 'learning_rate': 7.945205479452055e-05, 'epoch': 3.93}\n"
     ]
    },
    {
     "name": "stderr",
     "output_type": "stream",
     "text": [
      "Model weights saved in test-squad/checkpoint-14500/pytorch_model.bin\n",
      "tokenizer config file saved in test-squad/checkpoint-14500/tokenizer_config.json\n",
      "Special tokens file saved in test-squad/checkpoint-14500/special_tokens_map.json\n",
      " 40%|████      | 14756/36890 [3:22:25<4:07:32,  1.49it/s]***** Running Evaluation *****\n",
      "  Num examples = 10784\n",
      "  Batch size = 24\n",
      "                                                         \n",
      " 40%|████      | 14756/36890 [3:24:22<4:07:32,  1.49it/s]"
     ]
    },
    {
     "name": "stdout",
     "output_type": "stream",
     "text": [
      "{'eval_loss': 1.3963444232940674, 'eval_runtime': 116.7111, 'eval_samples_per_second': 92.399, 'eval_steps_per_second': 3.856, 'epoch': 4.0}\n"
     ]
    },
    {
     "name": "stderr",
     "output_type": "stream",
     "text": [
      " 41%|████      | 15000/36890 [3:27:32<4:44:07,  1.28it/s]  Saving model checkpoint to test-squad/checkpoint-15000\n",
      "Configuration saved in test-squad/checkpoint-15000/config.json\n"
     ]
    },
    {
     "name": "stdout",
     "output_type": "stream",
     "text": [
      "{'loss': 0.7087, 'learning_rate': 8.219178082191781e-05, 'epoch': 4.07}\n"
     ]
    },
    {
     "name": "stderr",
     "output_type": "stream",
     "text": [
      "Model weights saved in test-squad/checkpoint-15000/pytorch_model.bin\n",
      "tokenizer config file saved in test-squad/checkpoint-15000/tokenizer_config.json\n",
      "Special tokens file saved in test-squad/checkpoint-15000/special_tokens_map.json\n",
      " 42%|████▏     | 15500/36890 [3:34:03<4:38:01,  1.28it/s]Saving model checkpoint to test-squad/checkpoint-15500\n",
      "Configuration saved in test-squad/checkpoint-15500/config.json\n"
     ]
    },
    {
     "name": "stdout",
     "output_type": "stream",
     "text": [
      "{'loss': 0.5739, 'learning_rate': 8.493150684931507e-05, 'epoch': 4.2}\n"
     ]
    },
    {
     "name": "stderr",
     "output_type": "stream",
     "text": [
      "Model weights saved in test-squad/checkpoint-15500/pytorch_model.bin\n",
      "tokenizer config file saved in test-squad/checkpoint-15500/tokenizer_config.json\n",
      "Special tokens file saved in test-squad/checkpoint-15500/special_tokens_map.json\n",
      " 43%|████▎     | 16000/36890 [3:40:35<4:31:13,  1.28it/s]Saving model checkpoint to test-squad/checkpoint-16000\n",
      "Configuration saved in test-squad/checkpoint-16000/config.json\n"
     ]
    },
    {
     "name": "stdout",
     "output_type": "stream",
     "text": [
      "{'loss': 0.6223, 'learning_rate': 8.767123287671233e-05, 'epoch': 4.34}\n"
     ]
    },
    {
     "name": "stderr",
     "output_type": "stream",
     "text": [
      "Model weights saved in test-squad/checkpoint-16000/pytorch_model.bin\n",
      "tokenizer config file saved in test-squad/checkpoint-16000/tokenizer_config.json\n",
      "Special tokens file saved in test-squad/checkpoint-16000/special_tokens_map.json\n",
      " 45%|████▍     | 16500/36890 [3:47:06<4:24:37,  1.28it/s]Saving model checkpoint to test-squad/checkpoint-16500\n",
      "Configuration saved in test-squad/checkpoint-16500/config.json\n"
     ]
    },
    {
     "name": "stdout",
     "output_type": "stream",
     "text": [
      "{'loss': 0.6617, 'learning_rate': 9.041095890410958e-05, 'epoch': 4.47}\n"
     ]
    },
    {
     "name": "stderr",
     "output_type": "stream",
     "text": [
      "Model weights saved in test-squad/checkpoint-16500/pytorch_model.bin\n",
      "tokenizer config file saved in test-squad/checkpoint-16500/tokenizer_config.json\n",
      "Special tokens file saved in test-squad/checkpoint-16500/special_tokens_map.json\n",
      " 46%|████▌     | 17000/36890 [3:53:37<4:17:58,  1.28it/s]Saving model checkpoint to test-squad/checkpoint-17000\n",
      "Configuration saved in test-squad/checkpoint-17000/config.json\n"
     ]
    },
    {
     "name": "stdout",
     "output_type": "stream",
     "text": [
      "{'loss': 0.6965, 'learning_rate': 9.315068493150684e-05, 'epoch': 4.61}\n"
     ]
    },
    {
     "name": "stderr",
     "output_type": "stream",
     "text": [
      "Model weights saved in test-squad/checkpoint-17000/pytorch_model.bin\n",
      "tokenizer config file saved in test-squad/checkpoint-17000/tokenizer_config.json\n",
      "Special tokens file saved in test-squad/checkpoint-17000/special_tokens_map.json\n",
      " 47%|████▋     | 17500/36890 [4:00:08<4:11:38,  1.28it/s]Saving model checkpoint to test-squad/checkpoint-17500\n",
      "Configuration saved in test-squad/checkpoint-17500/config.json\n"
     ]
    },
    {
     "name": "stdout",
     "output_type": "stream",
     "text": [
      "{'loss': 0.7222, 'learning_rate': 9.58904109589041e-05, 'epoch': 4.74}\n"
     ]
    },
    {
     "name": "stderr",
     "output_type": "stream",
     "text": [
      "Model weights saved in test-squad/checkpoint-17500/pytorch_model.bin\n",
      "tokenizer config file saved in test-squad/checkpoint-17500/tokenizer_config.json\n",
      "Special tokens file saved in test-squad/checkpoint-17500/special_tokens_map.json\n",
      " 49%|████▉     | 18000/36890 [4:06:39<4:04:51,  1.29it/s]Saving model checkpoint to test-squad/checkpoint-18000\n",
      "Configuration saved in test-squad/checkpoint-18000/config.json\n"
     ]
    },
    {
     "name": "stdout",
     "output_type": "stream",
     "text": [
      "{'loss': 0.7429, 'learning_rate': 9.863013698630137e-05, 'epoch': 4.88}\n"
     ]
    },
    {
     "name": "stderr",
     "output_type": "stream",
     "text": [
      "Model weights saved in test-squad/checkpoint-18000/pytorch_model.bin\n",
      "tokenizer config file saved in test-squad/checkpoint-18000/tokenizer_config.json\n",
      "Special tokens file saved in test-squad/checkpoint-18000/special_tokens_map.json\n",
      " 50%|█████     | 18445/36890 [4:12:27<3:26:21,  1.49it/s]***** Running Evaluation *****\n",
      "  Num examples = 10784\n",
      "  Batch size = 24\n",
      "                                                         \n",
      " 50%|█████     | 18445/36890 [4:14:24<3:26:21,  1.49it/s]"
     ]
    },
    {
     "name": "stdout",
     "output_type": "stream",
     "text": [
      "{'eval_loss': 1.3399085998535156, 'eval_runtime': 116.7424, 'eval_samples_per_second': 92.374, 'eval_steps_per_second': 3.855, 'epoch': 5.0}\n"
     ]
    },
    {
     "name": "stderr",
     "output_type": "stream",
     "text": [
      " 50%|█████     | 18500/36890 [4:15:07<3:57:05,  1.29it/s]  Saving model checkpoint to test-squad/checkpoint-18500\n",
      "Configuration saved in test-squad/checkpoint-18500/config.json\n"
     ]
    },
    {
     "name": "stdout",
     "output_type": "stream",
     "text": [
      "{'loss': 0.761, 'learning_rate': 9.995370575511151e-05, 'epoch': 5.01}\n"
     ]
    },
    {
     "name": "stderr",
     "output_type": "stream",
     "text": [
      "Model weights saved in test-squad/checkpoint-18500/pytorch_model.bin\n",
      "tokenizer config file saved in test-squad/checkpoint-18500/tokenizer_config.json\n",
      "Special tokens file saved in test-squad/checkpoint-18500/special_tokens_map.json\n",
      " 52%|█████▏    | 19000/36890 [4:21:38<3:53:19,  1.28it/s]Saving model checkpoint to test-squad/checkpoint-19000\n",
      "Configuration saved in test-squad/checkpoint-19000/config.json\n"
     ]
    },
    {
     "name": "stdout",
     "output_type": "stream",
     "text": [
      "{'loss': 0.5262, 'learning_rate': 9.95838659949645e-05, 'epoch': 5.15}\n"
     ]
    },
    {
     "name": "stderr",
     "output_type": "stream",
     "text": [
      "Model weights saved in test-squad/checkpoint-19000/pytorch_model.bin\n",
      "tokenizer config file saved in test-squad/checkpoint-19000/tokenizer_config.json\n",
      "Special tokens file saved in test-squad/checkpoint-19000/special_tokens_map.json\n",
      " 53%|█████▎    | 19500/36890 [4:28:10<3:45:49,  1.28it/s]Saving model checkpoint to test-squad/checkpoint-19500\n",
      "Configuration saved in test-squad/checkpoint-19500/config.json\n"
     ]
    },
    {
     "name": "stdout",
     "output_type": "stream",
     "text": [
      "{'loss': 0.5573, 'learning_rate': 9.88469246388591e-05, 'epoch': 5.29}\n"
     ]
    },
    {
     "name": "stderr",
     "output_type": "stream",
     "text": [
      "Model weights saved in test-squad/checkpoint-19500/pytorch_model.bin\n",
      "tokenizer config file saved in test-squad/checkpoint-19500/tokenizer_config.json\n",
      "Special tokens file saved in test-squad/checkpoint-19500/special_tokens_map.json\n",
      " 54%|█████▍    | 20000/36890 [4:34:41<3:42:11,  1.27it/s]Saving model checkpoint to test-squad/checkpoint-20000\n",
      "Configuration saved in test-squad/checkpoint-20000/config.json\n"
     ]
    },
    {
     "name": "stdout",
     "output_type": "stream",
     "text": [
      "{'loss': 0.5837, 'learning_rate': 9.774833774276278e-05, 'epoch': 5.42}\n"
     ]
    },
    {
     "name": "stderr",
     "output_type": "stream",
     "text": [
      "Model weights saved in test-squad/checkpoint-20000/pytorch_model.bin\n",
      "tokenizer config file saved in test-squad/checkpoint-20000/tokenizer_config.json\n",
      "Special tokens file saved in test-squad/checkpoint-20000/special_tokens_map.json\n",
      " 56%|█████▌    | 20500/36890 [4:41:13<3:35:02,  1.27it/s]Saving model checkpoint to test-squad/checkpoint-20500\n",
      "Configuration saved in test-squad/checkpoint-20500/config.json\n"
     ]
    },
    {
     "name": "stdout",
     "output_type": "stream",
     "text": [
      "{'loss': 0.5915, 'learning_rate': 9.62962388596925e-05, 'epoch': 5.56}\n"
     ]
    },
    {
     "name": "stderr",
     "output_type": "stream",
     "text": [
      "Model weights saved in test-squad/checkpoint-20500/pytorch_model.bin\n",
      "tokenizer config file saved in test-squad/checkpoint-20500/tokenizer_config.json\n",
      "Special tokens file saved in test-squad/checkpoint-20500/special_tokens_map.json\n",
      " 57%|█████▋    | 21000/36890 [4:47:45<3:27:26,  1.28it/s]Saving model checkpoint to test-squad/checkpoint-21000\n",
      "Configuration saved in test-squad/checkpoint-21000/config.json\n"
     ]
    },
    {
     "name": "stdout",
     "output_type": "stream",
     "text": [
      "{'loss': 0.617, 'learning_rate': 9.450137882173384e-05, 'epoch': 5.69}\n"
     ]
    },
    {
     "name": "stderr",
     "output_type": "stream",
     "text": [
      "Model weights saved in test-squad/checkpoint-21000/pytorch_model.bin\n",
      "tokenizer config file saved in test-squad/checkpoint-21000/tokenizer_config.json\n",
      "Special tokens file saved in test-squad/checkpoint-21000/special_tokens_map.json\n",
      " 58%|█████▊    | 21500/36890 [4:54:16<3:20:10,  1.28it/s]Saving model checkpoint to test-squad/checkpoint-21500\n",
      "Configuration saved in test-squad/checkpoint-21500/config.json\n"
     ]
    },
    {
     "name": "stdout",
     "output_type": "stream",
     "text": [
      "{'loss': 0.6327, 'learning_rate': 9.237704614464156e-05, 'epoch': 5.83}\n"
     ]
    },
    {
     "name": "stderr",
     "output_type": "stream",
     "text": [
      "Model weights saved in test-squad/checkpoint-21500/pytorch_model.bin\n",
      "tokenizer config file saved in test-squad/checkpoint-21500/tokenizer_config.json\n",
      "Special tokens file saved in test-squad/checkpoint-21500/special_tokens_map.json\n",
      " 60%|█████▉    | 22000/36890 [5:00:48<3:13:19,  1.28it/s]Saving model checkpoint to test-squad/checkpoint-22000\n",
      "Configuration saved in test-squad/checkpoint-22000/config.json\n"
     ]
    },
    {
     "name": "stdout",
     "output_type": "stream",
     "text": [
      "{'loss': 0.6515, 'learning_rate': 8.993896864431826e-05, 'epoch': 5.96}\n"
     ]
    },
    {
     "name": "stderr",
     "output_type": "stream",
     "text": [
      "Model weights saved in test-squad/checkpoint-22000/pytorch_model.bin\n",
      "tokenizer config file saved in test-squad/checkpoint-22000/tokenizer_config.json\n",
      "Special tokens file saved in test-squad/checkpoint-22000/special_tokens_map.json\n",
      " 60%|██████    | 22134/36890 [5:02:33<2:45:32,  1.49it/s]***** Running Evaluation *****\n",
      "  Num examples = 10784\n",
      "  Batch size = 24\n",
      "                                                         \n",
      " 60%|██████    | 22134/36890 [5:04:30<2:45:32,  1.49it/s]"
     ]
    },
    {
     "name": "stdout",
     "output_type": "stream",
     "text": [
      "{'eval_loss': 1.5497112274169922, 'eval_runtime': 116.6912, 'eval_samples_per_second': 92.415, 'eval_steps_per_second': 3.856, 'epoch': 6.0}\n"
     ]
    },
    {
     "name": "stderr",
     "output_type": "stream",
     "text": [
      " 61%|██████    | 22500/36890 [5:09:13<3:08:10,  1.27it/s]  Saving model checkpoint to test-squad/checkpoint-22500\n",
      "Configuration saved in test-squad/checkpoint-22500/config.json\n"
     ]
    },
    {
     "name": "stdout",
     "output_type": "stream",
     "text": [
      "{'loss': 0.4557, 'learning_rate': 8.720519699356804e-05, 'epoch': 6.1}\n"
     ]
    },
    {
     "name": "stderr",
     "output_type": "stream",
     "text": [
      "Model weights saved in test-squad/checkpoint-22500/pytorch_model.bin\n",
      "tokenizer config file saved in test-squad/checkpoint-22500/tokenizer_config.json\n",
      "Special tokens file saved in test-squad/checkpoint-22500/special_tokens_map.json\n",
      " 62%|██████▏   | 23000/36890 [5:15:45<3:00:17,  1.28it/s]Saving model checkpoint to test-squad/checkpoint-23000\n",
      "Configuration saved in test-squad/checkpoint-23000/config.json\n"
     ]
    },
    {
     "name": "stdout",
     "output_type": "stream",
     "text": [
      "{'loss': 0.4005, 'learning_rate': 8.419597108123054e-05, 'epoch': 6.23}\n"
     ]
    },
    {
     "name": "stderr",
     "output_type": "stream",
     "text": [
      "Model weights saved in test-squad/checkpoint-23000/pytorch_model.bin\n",
      "tokenizer config file saved in test-squad/checkpoint-23000/tokenizer_config.json\n",
      "Special tokens file saved in test-squad/checkpoint-23000/special_tokens_map.json\n",
      " 64%|██████▎   | 23500/36890 [5:22:16<2:54:18,  1.28it/s]Saving model checkpoint to test-squad/checkpoint-23500\n",
      "Configuration saved in test-squad/checkpoint-23500/config.json\n"
     ]
    },
    {
     "name": "stdout",
     "output_type": "stream",
     "text": [
      "{'loss': 0.4324, 'learning_rate': 8.093357016312517e-05, 'epoch': 6.37}\n"
     ]
    },
    {
     "name": "stderr",
     "output_type": "stream",
     "text": [
      "Model weights saved in test-squad/checkpoint-23500/pytorch_model.bin\n",
      "tokenizer config file saved in test-squad/checkpoint-23500/tokenizer_config.json\n",
      "Special tokens file saved in test-squad/checkpoint-23500/special_tokens_map.json\n",
      " 65%|██████▌   | 24000/36890 [5:28:47<2:47:35,  1.28it/s]Saving model checkpoint to test-squad/checkpoint-24000\n",
      "Configuration saved in test-squad/checkpoint-24000/config.json\n"
     ]
    },
    {
     "name": "stdout",
     "output_type": "stream",
     "text": [
      "{'loss': 0.4151, 'learning_rate': 7.744214791423596e-05, 'epoch': 6.51}\n"
     ]
    },
    {
     "name": "stderr",
     "output_type": "stream",
     "text": [
      "Model weights saved in test-squad/checkpoint-24000/pytorch_model.bin\n",
      "tokenizer config file saved in test-squad/checkpoint-24000/tokenizer_config.json\n",
      "Special tokens file saved in test-squad/checkpoint-24000/special_tokens_map.json\n",
      " 66%|██████▋   | 24500/36890 [5:35:18<2:41:14,  1.28it/s]Saving model checkpoint to test-squad/checkpoint-24500\n",
      "Configuration saved in test-squad/checkpoint-24500/config.json\n"
     ]
    },
    {
     "name": "stdout",
     "output_type": "stream",
     "text": [
      "{'loss': 0.4407, 'learning_rate': 7.374755360335253e-05, 'epoch': 6.64}\n"
     ]
    },
    {
     "name": "stderr",
     "output_type": "stream",
     "text": [
      "Model weights saved in test-squad/checkpoint-24500/pytorch_model.bin\n",
      "tokenizer config file saved in test-squad/checkpoint-24500/tokenizer_config.json\n",
      "Special tokens file saved in test-squad/checkpoint-24500/special_tokens_map.json\n",
      " 68%|██████▊   | 25000/36890 [5:41:49<2:34:32,  1.28it/s]Saving model checkpoint to test-squad/checkpoint-25000\n",
      "Configuration saved in test-squad/checkpoint-25000/config.json\n"
     ]
    },
    {
     "name": "stdout",
     "output_type": "stream",
     "text": [
      "{'loss': 0.4374, 'learning_rate': 6.98771407141278e-05, 'epoch': 6.78}\n"
     ]
    },
    {
     "name": "stderr",
     "output_type": "stream",
     "text": [
      "Model weights saved in test-squad/checkpoint-25000/pytorch_model.bin\n",
      "tokenizer config file saved in test-squad/checkpoint-25000/tokenizer_config.json\n",
      "Special tokens file saved in test-squad/checkpoint-25000/special_tokens_map.json\n",
      " 69%|██████▉   | 25500/36890 [5:48:21<2:28:08,  1.28it/s]Saving model checkpoint to test-squad/checkpoint-25500\n",
      "Configuration saved in test-squad/checkpoint-25500/config.json\n"
     ]
    },
    {
     "name": "stdout",
     "output_type": "stream",
     "text": [
      "{'loss': 0.4303, 'learning_rate': 6.585956442945532e-05, 'epoch': 6.91}\n"
     ]
    },
    {
     "name": "stderr",
     "output_type": "stream",
     "text": [
      "Model weights saved in test-squad/checkpoint-25500/pytorch_model.bin\n",
      "tokenizer config file saved in test-squad/checkpoint-25500/tokenizer_config.json\n",
      "Special tokens file saved in test-squad/checkpoint-25500/special_tokens_map.json\n",
      " 70%|███████   | 25823/36890 [5:52:33<2:03:42,  1.49it/s]***** Running Evaluation *****\n",
      "  Num examples = 10784\n",
      "  Batch size = 24\n",
      "                                                         \n",
      " 70%|███████   | 25823/36890 [5:54:30<2:03:42,  1.49it/s]"
     ]
    },
    {
     "name": "stdout",
     "output_type": "stream",
     "text": [
      "{'eval_loss': 1.7412137985229492, 'eval_runtime': 116.7128, 'eval_samples_per_second': 92.398, 'eval_steps_per_second': 3.856, 'epoch': 7.0}\n"
     ]
    },
    {
     "name": "stderr",
     "output_type": "stream",
     "text": [
      " 70%|███████   | 26000/36890 [5:56:47<2:20:23,  1.29it/s]  Saving model checkpoint to test-squad/checkpoint-26000\n",
      "Configuration saved in test-squad/checkpoint-26000/config.json\n"
     ]
    },
    {
     "name": "stdout",
     "output_type": "stream",
     "text": [
      "{'loss': 0.3531, 'learning_rate': 6.172456947852049e-05, 'epoch': 7.05}\n"
     ]
    },
    {
     "name": "stderr",
     "output_type": "stream",
     "text": [
      "Model weights saved in test-squad/checkpoint-26000/pytorch_model.bin\n",
      "tokenizer config file saved in test-squad/checkpoint-26000/tokenizer_config.json\n",
      "Special tokens file saved in test-squad/checkpoint-26000/special_tokens_map.json\n",
      " 72%|███████▏  | 26500/36890 [6:03:17<2:14:59,  1.28it/s]Saving model checkpoint to test-squad/checkpoint-26500\n",
      "Configuration saved in test-squad/checkpoint-26500/config.json\n"
     ]
    },
    {
     "name": "stdout",
     "output_type": "stream",
     "text": [
      "{'loss': 0.2414, 'learning_rate': 5.7502769917232635e-05, 'epoch': 7.18}\n"
     ]
    },
    {
     "name": "stderr",
     "output_type": "stream",
     "text": [
      "Model weights saved in test-squad/checkpoint-26500/pytorch_model.bin\n",
      "tokenizer config file saved in test-squad/checkpoint-26500/tokenizer_config.json\n",
      "Special tokens file saved in test-squad/checkpoint-26500/special_tokens_map.json\n",
      " 73%|███████▎  | 27000/36890 [6:09:48<2:08:31,  1.28it/s]Saving model checkpoint to test-squad/checkpoint-27000\n",
      "Configuration saved in test-squad/checkpoint-27000/config.json\n"
     ]
    },
    {
     "name": "stdout",
     "output_type": "stream",
     "text": [
      "{'loss': 0.2426, 'learning_rate': 5.3225422472465824e-05, 'epoch': 7.32}\n"
     ]
    },
    {
     "name": "stderr",
     "output_type": "stream",
     "text": [
      "Model weights saved in test-squad/checkpoint-27000/pytorch_model.bin\n",
      "tokenizer config file saved in test-squad/checkpoint-27000/tokenizer_config.json\n",
      "Special tokens file saved in test-squad/checkpoint-27000/special_tokens_map.json\n",
      " 75%|███████▍  | 27500/36890 [6:16:19<2:02:06,  1.28it/s]Saving model checkpoint to test-squad/checkpoint-27500\n",
      "Configuration saved in test-squad/checkpoint-27500/config.json\n"
     ]
    },
    {
     "name": "stdout",
     "output_type": "stream",
     "text": [
      "{'loss': 0.2453, 'learning_rate': 4.892419512818889e-05, 'epoch': 7.45}\n"
     ]
    },
    {
     "name": "stderr",
     "output_type": "stream",
     "text": [
      "Model weights saved in test-squad/checkpoint-27500/pytorch_model.bin\n",
      "tokenizer config file saved in test-squad/checkpoint-27500/tokenizer_config.json\n",
      "Special tokens file saved in test-squad/checkpoint-27500/special_tokens_map.json\n",
      " 76%|███████▌  | 28000/36890 [6:22:50<1:55:33,  1.28it/s]Saving model checkpoint to test-squad/checkpoint-28000\n",
      "Configuration saved in test-squad/checkpoint-28000/config.json\n"
     ]
    },
    {
     "name": "stdout",
     "output_type": "stream",
     "text": [
      "{'loss': 0.2435, 'learning_rate': 4.463093266679185e-05, 'epoch': 7.59}\n"
     ]
    },
    {
     "name": "stderr",
     "output_type": "stream",
     "text": [
      "Model weights saved in test-squad/checkpoint-28000/pytorch_model.bin\n",
      "tokenizer config file saved in test-squad/checkpoint-28000/tokenizer_config.json\n",
      "Special tokens file saved in test-squad/checkpoint-28000/special_tokens_map.json\n",
      " 77%|███████▋  | 28500/36890 [6:29:22<1:48:53,  1.28it/s]Saving model checkpoint to test-squad/checkpoint-28500\n",
      "Configuration saved in test-squad/checkpoint-28500/config.json\n"
     ]
    },
    {
     "name": "stdout",
     "output_type": "stream",
     "text": [
      "{'loss': 0.2327, 'learning_rate': 4.0377420901458506e-05, 'epoch': 7.73}\n"
     ]
    },
    {
     "name": "stderr",
     "output_type": "stream",
     "text": [
      "Model weights saved in test-squad/checkpoint-28500/pytorch_model.bin\n",
      "tokenizer config file saved in test-squad/checkpoint-28500/tokenizer_config.json\n",
      "Special tokens file saved in test-squad/checkpoint-28500/special_tokens_map.json\n",
      " 79%|███████▊  | 29000/36890 [6:35:53<1:42:41,  1.28it/s]Saving model checkpoint to test-squad/checkpoint-29000\n",
      "Configuration saved in test-squad/checkpoint-29000/config.json\n"
     ]
    },
    {
     "name": "stdout",
     "output_type": "stream",
     "text": [
      "{'loss': 0.2347, 'learning_rate': 3.619515134512656e-05, 'epoch': 7.86}\n"
     ]
    },
    {
     "name": "stderr",
     "output_type": "stream",
     "text": [
      "Model weights saved in test-squad/checkpoint-29000/pytorch_model.bin\n",
      "tokenizer config file saved in test-squad/checkpoint-29000/tokenizer_config.json\n",
      "Special tokens file saved in test-squad/checkpoint-29000/special_tokens_map.json\n",
      " 80%|███████▉  | 29500/36890 [6:42:38<1:39:06,  1.24it/s]Saving model checkpoint to test-squad/checkpoint-29500\n",
      "Configuration saved in test-squad/checkpoint-29500/config.json\n"
     ]
    },
    {
     "name": "stdout",
     "output_type": "stream",
     "text": [
      "{'loss': 0.2229, 'learning_rate': 3.2115088058343725e-05, 'epoch': 8.0}\n"
     ]
    },
    {
     "name": "stderr",
     "output_type": "stream",
     "text": [
      "Model weights saved in test-squad/checkpoint-29500/pytorch_model.bin\n",
      "tokenizer config file saved in test-squad/checkpoint-29500/tokenizer_config.json\n",
      "Special tokens file saved in test-squad/checkpoint-29500/special_tokens_map.json\n",
      " 80%|████████  | 29512/36890 [6:42:49<1:26:08,  1.43it/s]***** Running Evaluation *****\n",
      "  Num examples = 10784\n",
      "  Batch size = 24\n",
      "                                                         \n",
      " 80%|████████  | 29512/36890 [6:44:51<1:26:08,  1.43it/s]"
     ]
    },
    {
     "name": "stdout",
     "output_type": "stream",
     "text": [
      "{'eval_loss': 2.1368227005004883, 'eval_runtime': 122.4974, 'eval_samples_per_second': 88.035, 'eval_steps_per_second': 3.674, 'epoch': 8.0}\n"
     ]
    },
    {
     "name": "stderr",
     "output_type": "stream",
     "text": [
      " 81%|████████▏ | 30000/36890 [6:51:24<1:31:53,  1.25it/s] Saving model checkpoint to test-squad/checkpoint-30000\n",
      "Configuration saved in test-squad/checkpoint-30000/config.json\n"
     ]
    },
    {
     "name": "stdout",
     "output_type": "stream",
     "text": [
      "{'loss': 0.113, 'learning_rate': 2.8167438402196805e-05, 'epoch': 8.13}\n"
     ]
    },
    {
     "name": "stderr",
     "output_type": "stream",
     "text": [
      "Model weights saved in test-squad/checkpoint-30000/pytorch_model.bin\n",
      "tokenizer config file saved in test-squad/checkpoint-30000/tokenizer_config.json\n",
      "Special tokens file saved in test-squad/checkpoint-30000/special_tokens_map.json\n",
      " 83%|████████▎ | 30500/36890 [6:58:09<1:25:42,  1.24it/s]Saving model checkpoint to test-squad/checkpoint-30500\n",
      "Configuration saved in test-squad/checkpoint-30500/config.json\n"
     ]
    },
    {
     "name": "stdout",
     "output_type": "stream",
     "text": [
      "{'loss': 0.1174, 'learning_rate': 2.438142939357882e-05, 'epoch': 8.27}\n"
     ]
    },
    {
     "name": "stderr",
     "output_type": "stream",
     "text": [
      "Model weights saved in test-squad/checkpoint-30500/pytorch_model.bin\n",
      "tokenizer config file saved in test-squad/checkpoint-30500/tokenizer_config.json\n",
      "Special tokens file saved in test-squad/checkpoint-30500/special_tokens_map.json\n",
      " 84%|████████▍ | 31000/36890 [7:04:54<1:19:14,  1.24it/s]Saving model checkpoint to test-squad/checkpoint-31000\n",
      "Configuration saved in test-squad/checkpoint-31000/config.json\n"
     ]
    },
    {
     "name": "stdout",
     "output_type": "stream",
     "text": [
      "{'loss': 0.1076, 'learning_rate': 2.0785091318581577e-05, 'epoch': 8.4}\n"
     ]
    },
    {
     "name": "stderr",
     "output_type": "stream",
     "text": [
      "Model weights saved in test-squad/checkpoint-31000/pytorch_model.bin\n",
      "tokenizer config file saved in test-squad/checkpoint-31000/tokenizer_config.json\n",
      "Special tokens file saved in test-squad/checkpoint-31000/special_tokens_map.json\n",
      " 85%|████████▌ | 31500/36890 [7:11:35<1:10:03,  1.28it/s]Saving model checkpoint to test-squad/checkpoint-31500\n",
      "Configuration saved in test-squad/checkpoint-31500/config.json\n"
     ]
    },
    {
     "name": "stdout",
     "output_type": "stream",
     "text": [
      "{'loss': 0.1076, 'learning_rate': 1.7405050206064373e-05, 'epoch': 8.54}\n"
     ]
    },
    {
     "name": "stderr",
     "output_type": "stream",
     "text": [
      "Model weights saved in test-squad/checkpoint-31500/pytorch_model.bin\n",
      "tokenizer config file saved in test-squad/checkpoint-31500/tokenizer_config.json\n",
      "Special tokens file saved in test-squad/checkpoint-31500/special_tokens_map.json\n",
      " 87%|████████▋ | 32000/36890 [7:18:05<1:03:33,  1.28it/s]Saving model checkpoint to test-squad/checkpoint-32000\n",
      "Configuration saved in test-squad/checkpoint-32000/config.json\n"
     ]
    },
    {
     "name": "stdout",
     "output_type": "stream",
     "text": [
      "{'loss': 0.1118, 'learning_rate': 1.4266330697851954e-05, 'epoch': 8.67}\n"
     ]
    },
    {
     "name": "stderr",
     "output_type": "stream",
     "text": [
      "Model weights saved in test-squad/checkpoint-32000/pytorch_model.bin\n",
      "tokenizer config file saved in test-squad/checkpoint-32000/tokenizer_config.json\n",
      "Special tokens file saved in test-squad/checkpoint-32000/special_tokens_map.json\n",
      " 88%|████████▊ | 32500/36890 [7:24:36<57:04,  1.28it/s]  Saving model checkpoint to test-squad/checkpoint-32500\n",
      "Configuration saved in test-squad/checkpoint-32500/config.json\n"
     ]
    },
    {
     "name": "stdout",
     "output_type": "stream",
     "text": [
      "{'loss': 0.1043, 'learning_rate': 1.1392170775041788e-05, 'epoch': 8.81}\n"
     ]
    },
    {
     "name": "stderr",
     "output_type": "stream",
     "text": [
      "Model weights saved in test-squad/checkpoint-32500/pytorch_model.bin\n",
      "tokenizer config file saved in test-squad/checkpoint-32500/tokenizer_config.json\n",
      "Special tokens file saved in test-squad/checkpoint-32500/special_tokens_map.json\n",
      " 89%|████████▉ | 33000/36890 [7:31:07<50:29,  1.28it/s]  Saving model checkpoint to test-squad/checkpoint-33000\n",
      "Configuration saved in test-squad/checkpoint-33000/config.json\n"
     ]
    },
    {
     "name": "stdout",
     "output_type": "stream",
     "text": [
      "{'loss': 0.1023, 'learning_rate': 8.803849712122292e-06, 'epoch': 8.95}\n"
     ]
    },
    {
     "name": "stderr",
     "output_type": "stream",
     "text": [
      "Model weights saved in test-squad/checkpoint-33000/pytorch_model.bin\n",
      "tokenizer config file saved in test-squad/checkpoint-33000/tokenizer_config.json\n",
      "Special tokens file saved in test-squad/checkpoint-33000/special_tokens_map.json\n",
      " 90%|█████████ | 33201/36890 [7:33:44<41:16,  1.49it/s]  ***** Running Evaluation *****\n",
      "  Num examples = 10784\n",
      "  Batch size = 24\n",
      "                                                       \n",
      " 90%|█████████ | 33201/36890 [7:35:41<41:16,  1.49it/s]"
     ]
    },
    {
     "name": "stdout",
     "output_type": "stream",
     "text": [
      "{'eval_loss': 2.610574960708618, 'eval_runtime': 116.6713, 'eval_samples_per_second': 92.431, 'eval_steps_per_second': 3.857, 'epoch': 9.0}\n"
     ]
    },
    {
     "name": "stderr",
     "output_type": "stream",
     "text": [
      " 91%|█████████ | 33500/36890 [7:39:32<44:01,  1.28it/s]   Saving model checkpoint to test-squad/checkpoint-33500\n",
      "Configuration saved in test-squad/checkpoint-33500/config.json\n"
     ]
    },
    {
     "name": "stdout",
     "output_type": "stream",
     "text": [
      "{'loss': 0.0687, 'learning_rate': 6.52053053266945e-06, 'epoch': 9.08}\n"
     ]
    },
    {
     "name": "stderr",
     "output_type": "stream",
     "text": [
      "Model weights saved in test-squad/checkpoint-33500/pytorch_model.bin\n",
      "tokenizer config file saved in test-squad/checkpoint-33500/tokenizer_config.json\n",
      "Special tokens file saved in test-squad/checkpoint-33500/special_tokens_map.json\n",
      " 92%|█████████▏| 34000/36890 [7:46:03<37:32,  1.28it/s]  Saving model checkpoint to test-squad/checkpoint-34000\n",
      "Configuration saved in test-squad/checkpoint-34000/config.json\n"
     ]
    },
    {
     "name": "stdout",
     "output_type": "stream",
     "text": [
      "{'loss': 0.0476, 'learning_rate': 4.559118133024853e-06, 'epoch': 9.22}\n"
     ]
    },
    {
     "name": "stderr",
     "output_type": "stream",
     "text": [
      "Model weights saved in test-squad/checkpoint-34000/pytorch_model.bin\n",
      "tokenizer config file saved in test-squad/checkpoint-34000/tokenizer_config.json\n",
      "Special tokens file saved in test-squad/checkpoint-34000/special_tokens_map.json\n",
      " 94%|█████████▎| 34500/36890 [7:52:34<31:02,  1.28it/s]Saving model checkpoint to test-squad/checkpoint-34500\n",
      "Configuration saved in test-squad/checkpoint-34500/config.json\n"
     ]
    },
    {
     "name": "stdout",
     "output_type": "stream",
     "text": [
      "{'loss': 0.0472, 'learning_rate': 2.934134124357646e-06, 'epoch': 9.35}\n"
     ]
    },
    {
     "name": "stderr",
     "output_type": "stream",
     "text": [
      "Model weights saved in test-squad/checkpoint-34500/pytorch_model.bin\n",
      "tokenizer config file saved in test-squad/checkpoint-34500/tokenizer_config.json\n",
      "Special tokens file saved in test-squad/checkpoint-34500/special_tokens_map.json\n",
      " 95%|█████████▍| 35000/36890 [7:59:05<24:32,  1.28it/s]Saving model checkpoint to test-squad/checkpoint-35000\n",
      "Configuration saved in test-squad/checkpoint-35000/config.json\n"
     ]
    },
    {
     "name": "stdout",
     "output_type": "stream",
     "text": [
      "{'loss': 0.0486, 'learning_rate': 1.6576093197361253e-06, 'epoch': 9.49}\n"
     ]
    },
    {
     "name": "stderr",
     "output_type": "stream",
     "text": [
      "Model weights saved in test-squad/checkpoint-35000/pytorch_model.bin\n",
      "tokenizer config file saved in test-squad/checkpoint-35000/tokenizer_config.json\n",
      "Special tokens file saved in test-squad/checkpoint-35000/special_tokens_map.json\n",
      " 96%|█████████▌| 35500/36890 [8:05:36<18:02,  1.28it/s]Saving model checkpoint to test-squad/checkpoint-35500\n",
      "Configuration saved in test-squad/checkpoint-35500/config.json\n"
     ]
    },
    {
     "name": "stdout",
     "output_type": "stream",
     "text": [
      "{'loss': 0.0493, 'learning_rate': 7.389946621969679e-07, 'epoch': 9.62}\n"
     ]
    },
    {
     "name": "stderr",
     "output_type": "stream",
     "text": [
      "Model weights saved in test-squad/checkpoint-35500/pytorch_model.bin\n",
      "tokenizer config file saved in test-squad/checkpoint-35500/tokenizer_config.json\n",
      "Special tokens file saved in test-squad/checkpoint-35500/special_tokens_map.json\n",
      " 98%|█████████▊| 36000/36890 [8:12:14<12:28,  1.19it/s]Saving model checkpoint to test-squad/checkpoint-36000\n",
      "Configuration saved in test-squad/checkpoint-36000/config.json\n"
     ]
    },
    {
     "name": "stdout",
     "output_type": "stream",
     "text": [
      "{'loss': 0.0526, 'learning_rate': 1.850912532696092e-07, 'epoch': 9.76}\n"
     ]
    },
    {
     "name": "stderr",
     "output_type": "stream",
     "text": [
      "Model weights saved in test-squad/checkpoint-36000/pytorch_model.bin\n",
      "tokenizer config file saved in test-squad/checkpoint-36000/tokenizer_config.json\n",
      "Special tokens file saved in test-squad/checkpoint-36000/special_tokens_map.json\n",
      " 99%|█████████▉| 36500/36890 [8:19:06<05:31,  1.18it/s]Saving model checkpoint to test-squad/checkpoint-36500\n",
      "Configuration saved in test-squad/checkpoint-36500/config.json\n"
     ]
    },
    {
     "name": "stdout",
     "output_type": "stream",
     "text": [
      "{'loss': 0.0508, 'learning_rate': 0.0, 'epoch': 9.89}\n"
     ]
    },
    {
     "name": "stderr",
     "output_type": "stream",
     "text": [
      "Model weights saved in test-squad/checkpoint-36500/pytorch_model.bin\n",
      "tokenizer config file saved in test-squad/checkpoint-36500/tokenizer_config.json\n",
      "Special tokens file saved in test-squad/checkpoint-36500/special_tokens_map.json\n",
      "100%|██████████| 36890/36890 [8:24:24<00:00,  1.44it/s]***** Running Evaluation *****\n",
      "  Num examples = 10784\n",
      "  Batch size = 24\n",
      "                                                       \n",
      "100%|██████████| 36890/36890 [8:26:25<00:00,  1.44it/s]\n",
      "\n",
      "Training completed. Do not forget to share your model on huggingface.co/models =)\n",
      "\n",
      "\n",
      "100%|██████████| 36890/36890 [8:26:25<00:00,  1.21it/s]"
     ]
    },
    {
     "name": "stdout",
     "output_type": "stream",
     "text": [
      "{'eval_loss': 3.0912227630615234, 'eval_runtime': 120.7042, 'eval_samples_per_second': 89.342, 'eval_steps_per_second': 3.728, 'epoch': 10.0}\n",
      "{'train_runtime': 30385.1617, 'train_samples_per_second': 29.134, 'train_steps_per_second': 1.214, 'train_loss': 0.7439544039193968, 'epoch': 10.0}\n"
     ]
    },
    {
     "name": "stderr",
     "output_type": "stream",
     "text": [
      "\n"
     ]
    },
    {
     "data": {
      "text/plain": [
       "TrainOutput(global_step=36890, training_loss=0.7439544039193968, metrics={'train_runtime': 30385.1617, 'train_samples_per_second': 29.134, 'train_steps_per_second': 1.214, 'train_loss': 0.7439544039193968, 'epoch': 10.0})"
      ]
     },
     "execution_count": 38,
     "metadata": {},
     "output_type": "execute_result"
    }
   ],
   "source": [
    "import os \n",
    "dir=\"trainer-model\"\n",
    "trainer.train(dir if os.path.exists(dir) else None)"
   ]
  },
  {
   "cell_type": "markdown",
   "metadata": {},
   "source": [
    "Since this training is particularly long, let's save the model just in case we need to restart."
   ]
  },
  {
   "cell_type": "code",
   "execution_count": 39,
   "metadata": {
    "scrolled": false
   },
   "outputs": [
    {
     "name": "stderr",
     "output_type": "stream",
     "text": [
      "Saving model checkpoint to trainer-model\n",
      "Configuration saved in trainer-model/config.json\n",
      "Model weights saved in trainer-model/pytorch_model.bin\n",
      "tokenizer config file saved in trainer-model/tokenizer_config.json\n",
      "Special tokens file saved in trainer-model/special_tokens_map.json\n"
     ]
    }
   ],
   "source": [
    "trainer.save_model(dir)"
   ]
  },
  {
   "cell_type": "code",
   "execution_count": 40,
   "metadata": {},
   "outputs": [
    {
     "name": "stderr",
     "output_type": "stream",
     "text": [
      "Configuration saved in saved-QA-model/config.json\n",
      "Model weights saved in saved-QA-model/pytorch_model.bin\n"
     ]
    }
   ],
   "source": [
    "model.save_pretrained('saved-QA-model')"
   ]
  },
  {
   "cell_type": "markdown",
   "metadata": {},
   "source": [
    "## Evaluation"
   ]
  },
  {
   "cell_type": "code",
   "execution_count": 41,
   "metadata": {},
   "outputs": [
    {
     "name": "stderr",
     "output_type": "stream",
     "text": [
      "loading configuration file saved-QA-model/config.json\n",
      "Model config DistilBertConfig {\n",
      "  \"_name_or_path\": \"distilbert-base-uncased\",\n",
      "  \"activation\": \"gelu\",\n",
      "  \"architectures\": [\n",
      "    \"DistilBertForQuestionAnswering\"\n",
      "  ],\n",
      "  \"attention_dropout\": 0.1,\n",
      "  \"dim\": 768,\n",
      "  \"dropout\": 0.1,\n",
      "  \"hidden_dim\": 3072,\n",
      "  \"initializer_range\": 0.02,\n",
      "  \"max_position_embeddings\": 512,\n",
      "  \"model_type\": \"distilbert\",\n",
      "  \"n_heads\": 12,\n",
      "  \"n_layers\": 6,\n",
      "  \"pad_token_id\": 0,\n",
      "  \"qa_dropout\": 0.1,\n",
      "  \"seq_classif_dropout\": 0.2,\n",
      "  \"sinusoidal_pos_embds\": false,\n",
      "  \"tie_weights_\": true,\n",
      "  \"torch_dtype\": \"float32\",\n",
      "  \"transformers_version\": \"4.9.2\",\n",
      "  \"vocab_size\": 30522\n",
      "}\n",
      "\n",
      "loading weights file saved-QA-model/pytorch_model.bin\n",
      "All model checkpoint weights were used when initializing DistilBertForQuestionAnswering.\n",
      "\n",
      "All the weights of DistilBertForQuestionAnswering were initialized from the model checkpoint at saved-QA-model.\n",
      "If your task is similar to the task the model of the checkpoint was trained on, you can already use DistilBertForQuestionAnswering for predictions without further training.\n"
     ]
    }
   ],
   "source": [
    "from transformers import AutoModelForQuestionAnswering\n",
    "\n",
    "model=AutoModelForQuestionAnswering.from_pretrained('saved-QA-model')"
   ]
  },
  {
   "cell_type": "markdown",
   "metadata": {},
   "source": [
    "Evaluating our model will require a bit more work, as we will need to map the predictions of our model back to parts of the context. The model itself predicts logits for the start and en position of our answers: if we take a batch from our validation datalaoder, here is the output our model gives us:"
   ]
  },
  {
   "cell_type": "code",
   "execution_count": 42,
   "metadata": {},
   "outputs": [
    {
     "data": {
      "text/plain": [
       "odict_keys(['loss', 'start_logits', 'end_logits'])"
      ]
     },
     "execution_count": 42,
     "metadata": {},
     "output_type": "execute_result"
    }
   ],
   "source": [
    "import torch\n",
    "\n",
    "for batch in trainer.get_eval_dataloader():\n",
    "    break\n",
    "batch = {k: v.to(trainer.args.device) for k, v in batch.items()}\n",
    "with torch.no_grad():\n",
    "    output = trainer.model(**batch)\n",
    "output.keys()"
   ]
  },
  {
   "cell_type": "markdown",
   "metadata": {},
   "source": [
    "The output of the model is a dict-like object that contains the loss (since we provided labels), the start and end logits. We won't need the loss for our predictions, let's have a look at the logits:"
   ]
  },
  {
   "cell_type": "code",
   "execution_count": 43,
   "metadata": {},
   "outputs": [
    {
     "data": {
      "text/plain": [
       "(torch.Size([24, 384]), torch.Size([24, 384]))"
      ]
     },
     "execution_count": 43,
     "metadata": {},
     "output_type": "execute_result"
    }
   ],
   "source": [
    "output.start_logits.shape, output.end_logits.shape"
   ]
  },
  {
   "cell_type": "markdown",
   "metadata": {},
   "source": [
    "We have one logit for each feature and each token. The most obvious thing to predict an answer for each featyre is to take the index for the maximum of the start logits as a start position and the index of the maximum of the end logits as an end position."
   ]
  },
  {
   "cell_type": "code",
   "execution_count": 44,
   "metadata": {},
   "outputs": [
    {
     "data": {
      "text/plain": [
       "(tensor([ 46,  57,  78,  43, 113, 162,  72,  35, 162,  34,  73,  41,  80,  86,\n",
       "         156,  35,  83,  86,  80,  58,  77,  74,  42,  53], device='cuda:0'),\n",
       " tensor([ 47,  58,  81,  44, 113, 165,  75,  37, 165,  36,  76,  42,  83,  87,\n",
       "         158,  35,  83,  87,  83,  60,  80,  74,  43,  54], device='cuda:0'))"
      ]
     },
     "execution_count": 44,
     "metadata": {},
     "output_type": "execute_result"
    }
   ],
   "source": [
    "output.start_logits.argmax(dim=-1), output.end_logits.argmax(dim=-1)"
   ]
  },
  {
   "cell_type": "markdown",
   "metadata": {},
   "source": [
    "This will work great in a lot of cases, but what if this prediction gives us something impossible: the start position could be greater than the end position, or point to a span of text in the question instead of the answer. In that case, we might want to look at the second best prediction to see if it gives a possible answer and select that instead.\n",
    "\n",
    "However, picking the second best answer is not as easy as picking the best one: is it the second best index in the start logits with the best index in the end logits? Or the best index in the start logits with the second best index in the end logits? And if that second best answer is not possible either, it gets even trickier for the third best answer.\n",
    "\n",
    "\n",
    "To classify our answers, we will use the score obtained by adding the start and end logits. We won't try to order all the possible answers and limit ourselves to with a hyper-parameter we call `n_best_size`. We'll pick the best indices in the start and end logits and gather all the answers this predicts. After checking if each one is valid, we will sort them by their score and keep the best one. Here is how we would do this on the first feature in the batch:"
   ]
  },
  {
   "cell_type": "code",
   "execution_count": 45,
   "metadata": {},
   "outputs": [],
   "source": [
    "n_best_size = 20"
   ]
  },
  {
   "cell_type": "code",
   "execution_count": 46,
   "metadata": {},
   "outputs": [],
   "source": [
    "import numpy as np\n",
    "\n",
    "start_logits = output.start_logits[0].cpu().numpy()\n",
    "end_logits = output.end_logits[0].cpu().numpy()\n",
    "# Gather the indices the best start/end logits:\n",
    "start_indexes = np.argsort(start_logits)[-1 : -n_best_size - 1 : -1].tolist()\n",
    "end_indexes = np.argsort(end_logits)[-1 : -n_best_size - 1 : -1].tolist()\n",
    "valid_answers = []\n",
    "for start_index in start_indexes:\n",
    "    for end_index in end_indexes:\n",
    "        if start_index <= end_index: # We need to refine that test to check the answer is inside the context\n",
    "            valid_answers.append(\n",
    "                {\n",
    "                    \"score\": start_logits[start_index] + end_logits[end_index],\n",
    "                    \"text\": \"\" # We need to find a way to get back the original substring corresponding to the answer in the context\n",
    "                }\n",
    "            )"
   ]
  },
  {
   "cell_type": "markdown",
   "metadata": {},
   "source": [
    "And then we can sort the `valid_answers` according to their `score` and only keep the best one. The only point left is how to check a given span is inside the context (and not the question) and how to get back the text inside. To do this, we need to add two things to our validation features:\n",
    "- the ID of the example that generated the feature (since each example can generate several features, as seen before);\n",
    "- the offset mapping that will give us a map from token indices to character positions in the context.\n",
    "\n",
    "That's why we will re-process the validation set with the following function, slightly different from `prepare_train_features`:"
   ]
  },
  {
   "cell_type": "code",
   "execution_count": 47,
   "metadata": {},
   "outputs": [],
   "source": [
    "def prepare_validation_features(examples):\n",
    "    # Some of the questions have lots of whitespace on the left, which is not useful and will make the\n",
    "    # truncation of the context fail (the tokenized question will take a lots of space). So we remove that\n",
    "    # left whitespace\n",
    "    examples[\"question\"] = [q.lstrip() for q in examples[\"question\"]]\n",
    "\n",
    "    # Tokenize our examples with truncation and maybe padding, but keep the overflows using a stride. This results\n",
    "    # in one example possible giving several features when a context is long, each of those features having a\n",
    "    # context that overlaps a bit the context of the previous feature.\n",
    "    tokenized_examples = tokenizer(\n",
    "        examples[\"question\"],\n",
    "        examples[\"context\"],\n",
    "        truncation=\"only_second\",\n",
    "        max_length=max_length,\n",
    "        stride=doc_stride,\n",
    "        return_overflowing_tokens=True,\n",
    "        return_offsets_mapping=True,\n",
    "        padding=\"max_length\",\n",
    "    )\n",
    "\n",
    "    # Since one example might give us several features if it has a long context, we need a map from a feature to\n",
    "    # its corresponding example. This key gives us just that.\n",
    "    sample_mapping = tokenized_examples.pop(\"overflow_to_sample_mapping\")\n",
    "\n",
    "    # We keep the example_id that gave us this feature and we will store the offset mappings.\n",
    "    tokenized_examples[\"example_id\"] = []\n",
    "\n",
    "    for i in range(len(tokenized_examples[\"input_ids\"])):\n",
    "        # Grab the sequence corresponding to that example (to know what is the context and what is the question).\n",
    "        sequence_ids = tokenized_examples.sequence_ids(i)\n",
    "        context_index = 1\n",
    "\n",
    "        # One example can give several spans, this is the index of the example containing this span of text.\n",
    "        sample_index = sample_mapping[i]\n",
    "        tokenized_examples[\"example_id\"].append(examples[\"id\"][sample_index])\n",
    "\n",
    "        # Set to None the offset_mapping that are not part of the context so it's easy to determine if a token\n",
    "        # position is part of the context or not.\n",
    "        tokenized_examples[\"offset_mapping\"][i] = [\n",
    "            (o if sequence_ids[k] == context_index else None)\n",
    "            for k, o in enumerate(tokenized_examples[\"offset_mapping\"][i])\n",
    "        ]\n",
    "\n",
    "    return tokenized_examples"
   ]
  },
  {
   "cell_type": "markdown",
   "metadata": {},
   "source": [
    "And like before, we can apply that function to our validation set easily:"
   ]
  },
  {
   "cell_type": "code",
   "execution_count": 48,
   "metadata": {},
   "outputs": [
    {
     "name": "stderr",
     "output_type": "stream",
     "text": [
      "100%|██████████| 11/11 [00:11<00:00,  1.02s/ba]\n"
     ]
    }
   ],
   "source": [
    "validation_features = datasets[\"validation\"].map(\n",
    "    prepare_validation_features,\n",
    "    batched=True,\n",
    "    remove_columns=datasets[\"validation\"].column_names\n",
    ")"
   ]
  },
  {
   "cell_type": "markdown",
   "metadata": {},
   "source": [
    "Now we can grab the predictions for all features by using the `Trainer.predict` method:"
   ]
  },
  {
   "cell_type": "code",
   "execution_count": 49,
   "metadata": {},
   "outputs": [
    {
     "name": "stderr",
     "output_type": "stream",
     "text": [
      "The following columns in the test set  don't have a corresponding argument in `DistilBertForQuestionAnswering.forward` and have been ignored: offset_mapping, example_id.\n",
      "***** Running Prediction *****\n",
      "  Num examples = 10784\n",
      "  Batch size = 24\n",
      "100%|█████████▉| 449/450 [02:03<00:00,  3.59it/s]"
     ]
    }
   ],
   "source": [
    "raw_predictions = trainer.predict(validation_features)"
   ]
  },
  {
   "cell_type": "markdown",
   "metadata": {},
   "source": [
    "The `Trainer` *hides* the columns that are not used by the model (here `example_id` and `offset_mapping` which we will need for our post-processing), so we set them back:"
   ]
  },
  {
   "cell_type": "code",
   "execution_count": 50,
   "metadata": {},
   "outputs": [],
   "source": [
    "validation_features.set_format(type=validation_features.format[\"type\"], columns=list(validation_features.features.keys()))"
   ]
  },
  {
   "cell_type": "markdown",
   "metadata": {},
   "source": [
    "We can now refine the test we had before: since we set `None` in the offset mappings when it corresponds to a part of the question, it's easy to check if an answer is fully inside the context. We also eliminate very long answers from our considerations (with an hyper-parameter we can tune)"
   ]
  },
  {
   "cell_type": "code",
   "execution_count": 51,
   "metadata": {},
   "outputs": [],
   "source": [
    "max_answer_length = 30"
   ]
  },
  {
   "cell_type": "code",
   "execution_count": 52,
   "metadata": {},
   "outputs": [
    {
     "data": {
      "text/plain": [
       "[{'score': 25.307564, 'text': 'Denver Broncos'},\n",
       " {'score': 23.239866,\n",
       "  'text': 'Denver Broncos defeated the National Football Conference (NFC) champion Carolina Panthers'},\n",
       " {'score': 20.345716, 'text': 'Carolina Panthers'},\n",
       " {'score': 13.423489, 'text': 'Broncos'},\n",
       " {'score': 11.495771,\n",
       "  'text': 'The American Football Conference (AFC) champion Denver Broncos'},\n",
       " {'score': 11.35579,\n",
       "  'text': 'Broncos defeated the National Football Conference (NFC) champion Carolina Panthers'},\n",
       " {'score': 9.6571045,\n",
       "  'text': 'National Football Conference (NFC) champion Carolina Panthers'},\n",
       " {'score': 9.428073,\n",
       "  'text': 'The American Football Conference (AFC) champion Denver Broncos defeated the National Football Conference (NFC) champion Carolina Panthers'},\n",
       " {'score': 8.819131, 'text': 'Panthers'},\n",
       " {'score': 8.265104, 'text': 'Denver'},\n",
       " {'score': 6.986588,\n",
       "  'text': 'Denver Broncos defeated the National Football Conference (NFC) champion Carolina Panthers 24–10'},\n",
       " {'score': 6.2996073,\n",
       "  'text': 'the National Football Conference (NFC) champion Carolina Panthers'},\n",
       " {'score': 5.3737526,\n",
       "  'text': 'American Football Conference (AFC) champion Denver Broncos'},\n",
       " {'score': 5.0094657,\n",
       "  'text': 'Denver Broncos defeated the National Football Conference'},\n",
       " {'score': 4.731137,\n",
       "  'text': 'Denver Broncos defeated the National Football Conference (NFC) champion Carolina'},\n",
       " {'score': 4.4271975, 'text': 'AFC) champion Denver Broncos'},\n",
       " {'score': 4.092438, 'text': 'Carolina Panthers 24–10'},\n",
       " {'score': 3.306054,\n",
       "  'text': 'American Football Conference (AFC) champion Denver Broncos defeated the National Football Conference (NFC) champion Carolina Panthers'},\n",
       " {'score': 2.5202637, 'text': 'Conference (AFC) champion Denver Broncos'},\n",
       " {'score': 2.359499,\n",
       "  'text': 'AFC) champion Denver Broncos defeated the National Football Conference (NFC) champion Carolina Panthers'}]"
      ]
     },
     "execution_count": 52,
     "metadata": {},
     "output_type": "execute_result"
    }
   ],
   "source": [
    "start_logits = output.start_logits[0].cpu().numpy()\n",
    "end_logits = output.end_logits[0].cpu().numpy()\n",
    "offset_mapping = validation_features[0][\"offset_mapping\"]\n",
    "# The first feature comes from the first example. For the more general case, we will need to be match the example_id to\n",
    "# an example index\n",
    "context = datasets[\"validation\"][0][\"context\"]\n",
    "\n",
    "# Gather the indices the best start/end logits:\n",
    "start_indexes = np.argsort(start_logits)[-1 : -n_best_size - 1 : -1].tolist()\n",
    "end_indexes = np.argsort(end_logits)[-1 : -n_best_size - 1 : -1].tolist()\n",
    "valid_answers = []\n",
    "for start_index in start_indexes:\n",
    "    for end_index in end_indexes:\n",
    "        # Don't consider out-of-scope answers, either because the indices are out of bounds or correspond\n",
    "        # to part of the input_ids that are not in the context.\n",
    "        if (\n",
    "            start_index >= len(offset_mapping)\n",
    "            or end_index >= len(offset_mapping)\n",
    "            or offset_mapping[start_index] is None\n",
    "            or offset_mapping[end_index] is None\n",
    "        ):\n",
    "            continue\n",
    "        # Don't consider answers with a length that is either < 0 or > max_answer_length.\n",
    "        if end_index < start_index or end_index - start_index + 1 > max_answer_length:\n",
    "            continue\n",
    "        if start_index <= end_index: # We need to refine that test to check the answer is inside the context\n",
    "            start_char = offset_mapping[start_index][0]\n",
    "            end_char = offset_mapping[end_index][1]\n",
    "            valid_answers.append(\n",
    "                {\n",
    "                    \"score\": start_logits[start_index] + end_logits[end_index],\n",
    "                    \"text\": context[start_char: end_char]\n",
    "                }\n",
    "            )\n",
    "\n",
    "valid_answers = sorted(valid_answers, key=lambda x: x[\"score\"], reverse=True)[:n_best_size]\n",
    "valid_answers"
   ]
  },
  {
   "cell_type": "markdown",
   "metadata": {},
   "source": [
    "We can compare to the actual ground-truth answer:"
   ]
  },
  {
   "cell_type": "code",
   "execution_count": 53,
   "metadata": {},
   "outputs": [
    {
     "data": {
      "text/plain": [
       "{'text': ['Denver Broncos', 'Denver Broncos', 'Denver Broncos'],\n",
       " 'answer_start': [177, 177, 177]}"
      ]
     },
     "execution_count": 53,
     "metadata": {},
     "output_type": "execute_result"
    }
   ],
   "source": [
    "datasets[\"validation\"][0][\"answers\"]"
   ]
  },
  {
   "cell_type": "markdown",
   "metadata": {},
   "source": [
    "Our model picked the right as the most likely answer!\n",
    "\n",
    "As we mentioned in the code above, this was easy on the first feature because we knew it comes from the first example. For the other features, we will need a map between examples and their corresponding features. Also, since one example can give several features, we will need to gather together all the answers in all the features generated by a given example, then pick the best one. The following code builds a map from example index to its corresponding features indices:"
   ]
  },
  {
   "cell_type": "code",
   "execution_count": 54,
   "metadata": {},
   "outputs": [],
   "source": [
    "import collections\n",
    "\n",
    "examples = datasets[\"validation\"]\n",
    "features = validation_features\n",
    "\n",
    "example_id_to_index = {k: i for i, k in enumerate(examples[\"id\"])}\n",
    "features_per_example = collections.defaultdict(list)\n",
    "for i, feature in enumerate(features):\n",
    "    features_per_example[example_id_to_index[feature[\"example_id\"]]].append(i)"
   ]
  },
  {
   "cell_type": "markdown",
   "metadata": {},
   "source": [
    "We're almost ready for our post-processing function. The last bit to deal with is the impossible answer (when `squad_v2 = True`). The code above only keeps answers that are inside the context, we need to also grab the score for the impossible answer (which has start and end indices corresponding to the index of the CLS token). When one example gives several features, we have to predict the impossible answer when all the features give a high score to the impossible answer (since one feature could predict the impossible answer just because the answer isn't in the part of the context it has access too), which is why the score of the impossible answer for one example is the *minimum* of the scores for the impossible answer in each feature generated by the example.\n",
    "\n",
    "We then predict the impossible answer when that score is greater than the score of the best non-impossible answer. All combined together, this gives us this post-processing function:"
   ]
  },
  {
   "cell_type": "code",
   "execution_count": 55,
   "metadata": {},
   "outputs": [],
   "source": [
    "from tqdm.auto import tqdm\n",
    "\n",
    "def postprocess_qa_predictions(examples, features, raw_predictions, n_best_size = 20, max_answer_length = 30):\n",
    "    all_start_logits, all_end_logits = raw_predictions\n",
    "    # Build a map example to its corresponding features.\n",
    "    example_id_to_index = {k: i for i, k in enumerate(examples[\"id\"])}\n",
    "    features_per_example = collections.defaultdict(list)\n",
    "    for i, feature in enumerate(features):\n",
    "        features_per_example[example_id_to_index[feature[\"example_id\"]]].append(i)\n",
    "\n",
    "    # The dictionaries we have to fill.\n",
    "    predictions = collections.OrderedDict()\n",
    "\n",
    "    # Logging.\n",
    "    print(f\"Post-processing {len(examples)} example predictions split into {len(features)} features.\")\n",
    "\n",
    "    # Let's loop over all the examples!\n",
    "    for example_index, example in enumerate(tqdm(examples)):\n",
    "        # Those are the indices of the features associated to the current example.\n",
    "        feature_indices = features_per_example[example_index]\n",
    "\n",
    "        min_null_score = None # Only used if squad_v2 is True.\n",
    "        valid_answers = []\n",
    "        \n",
    "        context = example[\"context\"]\n",
    "        # Looping through all the features associated to the current example.\n",
    "        for feature_index in feature_indices:\n",
    "            # We grab the predictions of the model for this feature.\n",
    "            start_logits = all_start_logits[feature_index]\n",
    "            end_logits = all_end_logits[feature_index]\n",
    "            # This is what will allow us to map some the positions in our logits to span of texts in the original\n",
    "            # context.\n",
    "            offset_mapping = features[feature_index][\"offset_mapping\"]\n",
    "\n",
    "            # Update minimum null prediction.\n",
    "            cls_index = features[feature_index][\"input_ids\"].index(tokenizer.cls_token_id)\n",
    "            feature_null_score = start_logits[cls_index] + end_logits[cls_index]\n",
    "            if min_null_score is None or min_null_score < feature_null_score:\n",
    "                min_null_score = feature_null_score\n",
    "\n",
    "            # Go through all possibilities for the `n_best_size` greater start and end logits.\n",
    "            start_indexes = np.argsort(start_logits)[-1 : -n_best_size - 1 : -1].tolist()\n",
    "            end_indexes = np.argsort(end_logits)[-1 : -n_best_size - 1 : -1].tolist()\n",
    "            for start_index in start_indexes:\n",
    "                for end_index in end_indexes:\n",
    "                    # Don't consider out-of-scope answers, either because the indices are out of bounds or correspond\n",
    "                    # to part of the input_ids that are not in the context.\n",
    "                    if (\n",
    "                        start_index >= len(offset_mapping)\n",
    "                        or end_index >= len(offset_mapping)\n",
    "                        or offset_mapping[start_index] is None\n",
    "                        or offset_mapping[end_index] is None\n",
    "                    ):\n",
    "                        continue\n",
    "                    # Don't consider answers with a length that is either < 0 or > max_answer_length.\n",
    "                    if end_index < start_index or end_index - start_index + 1 > max_answer_length:\n",
    "                        continue\n",
    "\n",
    "                    start_char = offset_mapping[start_index][0]\n",
    "                    end_char = offset_mapping[end_index][1]\n",
    "                    valid_answers.append(\n",
    "                        {\n",
    "                            \"score\": start_logits[start_index] + end_logits[end_index],\n",
    "                            \"text\": context[start_char: end_char]\n",
    "                        }\n",
    "                    )\n",
    "        \n",
    "        if len(valid_answers) > 0:\n",
    "            best_answer = sorted(valid_answers, key=lambda x: x[\"score\"], reverse=True)[0]\n",
    "        else:\n",
    "            # In the very rare edge case we have not a single non-null prediction, we create a fake prediction to avoid\n",
    "            # failure.\n",
    "            best_answer = {\"text\": \"\", \"score\": 0.0}\n",
    "        \n",
    "        # Let's pick our final answer: the best one or the null answer (only for squad_v2)\n",
    "        if not squad_v2:\n",
    "            predictions[example[\"id\"]] = best_answer[\"text\"]\n",
    "        else:\n",
    "            answer = best_answer[\"text\"] if best_answer[\"score\"] > min_null_score else \"\"\n",
    "            predictions[example[\"id\"]] = answer\n",
    "\n",
    "    return predictions"
   ]
  },
  {
   "cell_type": "markdown",
   "metadata": {},
   "source": [
    "And we can apply our post-processing function to our raw predictions:"
   ]
  },
  {
   "cell_type": "code",
   "execution_count": 56,
   "metadata": {},
   "outputs": [
    {
     "name": "stdout",
     "output_type": "stream",
     "text": [
      "Post-processing 10570 example predictions split into 10784 features.\n"
     ]
    },
    {
     "name": "stderr",
     "output_type": "stream",
     "text": [
      "100%|██████████| 10570/10570 [00:23<00:00, 448.26it/s]\n"
     ]
    }
   ],
   "source": [
    "final_predictions = postprocess_qa_predictions(datasets[\"validation\"], validation_features, raw_predictions.predictions)"
   ]
  },
  {
   "cell_type": "markdown",
   "metadata": {},
   "source": [
    "Then we can load the metric from the datasets library."
   ]
  },
  {
   "cell_type": "code",
   "execution_count": 57,
   "metadata": {},
   "outputs": [
    {
     "name": "stderr",
     "output_type": "stream",
     "text": [
      "Downloading: 4.51kB [00:00, 1.59MB/s]                   \n",
      "Downloading: 3.31kB [00:00, 1.43MB/s]                   \n"
     ]
    }
   ],
   "source": [
    "metric = load_metric(\"squad_v2\" if squad_v2 else \"squad\")"
   ]
  },
  {
   "cell_type": "markdown",
   "metadata": {},
   "source": [
    "Then we can call compute on it. We just need to format predictions and labels a bit as it expects a list of dictionaries and not one big dictionary. In the case of squad_v2, we also have to set a `no_answer_probability` argument (which we set to 0.0 here as we have already set the answer to empty if we picked it)."
   ]
  },
  {
   "cell_type": "code",
   "execution_count": 58,
   "metadata": {},
   "outputs": [
    {
     "data": {
      "text/plain": [
       "{'exact_match': 73.28287606433302, 'f1': 83.00790512160691}"
      ]
     },
     "execution_count": 58,
     "metadata": {},
     "output_type": "execute_result"
    }
   ],
   "source": [
    "if squad_v2:\n",
    "    formatted_predictions = [{\"id\": k, \"prediction_text\": v, \"no_answer_probability\": 0.0} for k, v in final_predictions.items()]\n",
    "else:\n",
    "    formatted_predictions = [{\"id\": k, \"prediction_text\": v} for k, v in final_predictions.items()]\n",
    "references = [{\"id\": ex[\"id\"], \"answers\": ex[\"answers\"]} for ex in datasets[\"validation\"]]\n",
    "metric.compute(predictions=formatted_predictions, references=references)"
   ]
  },
  {
   "cell_type": "markdown",
   "metadata": {},
   "source": [
    "### Save the optimized model"
   ]
  },
  {
   "cell_type": "code",
   "execution_count": 59,
   "metadata": {},
   "outputs": [
    {
     "name": "stderr",
     "output_type": "stream",
     "text": [
      "Configuration saved in saved-QA-model/config.json\n",
      "Model weights saved in saved-QA-model/pytorch_model.bin\n"
     ]
    }
   ],
   "source": [
    "model.save_pretrained('saved-QA-model')"
   ]
  },
  {
   "cell_type": "code",
   "execution_count": null,
   "metadata": {},
   "outputs": [],
   "source": []
  }
 ],
 "metadata": {
  "colab": {
   "name": "Question Answering on SQUAD",
   "provenance": []
  },
  "interpreter": {
   "hash": "dd5645910c9f12221763b2aa836bb1f3cb241427948cb3afce762a164a0fd337"
  },
  "kernelspec": {
   "display_name": "PyTorch",
   "language": "python",
   "name": "python3"
  },
  "language_info": {
   "codemirror_mode": {
    "name": "ipython",
    "version": 3
   },
   "file_extension": ".py",
   "mimetype": "text/x-python",
   "name": "python",
   "nbconvert_exporter": "python",
   "pygments_lexer": "ipython3",
   "version": "3.8.5"
  }
 },
 "nbformat": 4,
 "nbformat_minor": 1
}
